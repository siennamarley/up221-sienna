{
 "cells": [
  {
   "cell_type": "markdown",
   "id": "1936c64e-0935-484c-bf14-c945cfb4fee6",
   "metadata": {},
   "source": [
    "# Week 2 Data Exploration\n",
    "## Sienna Marley\n",
    "\n",
    "The purpose of this assignment is to work with [California Department of Education Data](https://www.cde.ca.gov/SchoolDirectory/ExportSelect?search=&allSearch=&tab=1&order=0&qdc=1520&qsc=25925&simpleSearch=Y&sax=true)."
   ]
  },
  {
   "cell_type": "code",
   "execution_count": 1,
   "id": "145d9939-d28a-4483-967e-578d2a47aa6d",
   "metadata": {},
   "outputs": [
    {
     "name": "stdout",
     "output_type": "stream",
     "text": [
      "upload to GitHub\n"
     ]
    }
   ],
   "source": [
    "# printing demonstration to upload notebook to GitHub\n",
    "print ('upload to GitHub')"
   ]
  }
 ],
 "metadata": {
  "kernelspec": {
   "display_name": "Python 3 (ipykernel)",
   "language": "python",
   "name": "python3"
  },
  "language_info": {
   "codemirror_mode": {
    "name": "ipython",
    "version": 3
   },
   "file_extension": ".py",
   "mimetype": "text/x-python",
   "name": "python",
   "nbconvert_exporter": "python",
   "pygments_lexer": "ipython3",
   "version": "3.11.9"
  }
 },
 "nbformat": 4,
 "nbformat_minor": 5
}
