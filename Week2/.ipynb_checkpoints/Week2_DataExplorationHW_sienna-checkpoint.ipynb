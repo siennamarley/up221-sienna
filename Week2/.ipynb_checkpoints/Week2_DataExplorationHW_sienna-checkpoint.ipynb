{
 "cells": [
  {
   "cell_type": "raw",
   "id": "285accea-4641-49d7-af25-a81e2b5e5cee",
   "metadata": {},
   "source": [
    "# Week 2 Data Exploration\n",
    "## Sienna Marley\n",
    "\n",
    "The purpose of this assignment is to work with [California Department of Education Data](https://www.cde.ca.gov/SchoolDirectory/ExportSelect?search=&allSearch=&tab=1&order=0&qdc=1520&qsc=25925&simpleSearch=Y&sax=true). I wanted to identify any patterns of the distribution of schools and could be used in the group assignment regarding children and extreme heat resources."
   ]
  },
  {
   "cell_type": "code",
   "execution_count": 1,
   "id": "145d9939-d28a-4483-967e-578d2a47aa6d",
   "metadata": {},
   "outputs": [
    {
     "name": "stdout",
     "output_type": "stream",
     "text": [
      "upload to GitHub\n"
     ]
    }
   ],
   "source": [
    "# printing demonstration to upload notebook to GitHub\n",
    "print ('upload to GitHub')"
   ]
  },
  {
   "cell_type": "code",
   "execution_count": 2,
   "id": "2c1a2876-fcce-4fef-8b41-a6e40b3d9fe6",
   "metadata": {},
   "outputs": [
    {
     "name": "stdout",
     "output_type": "stream",
     "text": [
      "use terminal to use to github\n"
     ]
    }
   ],
   "source": [
    "print('use terminal to use to github')"
   ]
  },
  {
   "cell_type": "code",
   "execution_count": 3,
   "id": "37791dbb-d7df-48c2-a32f-84a1e6eae9f0",
   "metadata": {},
   "outputs": [
    {
     "name": "stdout",
     "output_type": "stream",
     "text": [
      "/home/jovyan/up221-sienna/Week2\n"
     ]
    }
   ],
   "source": [
    "import os\n",
    "print(os.getcwd())"
   ]
  },
  {
   "cell_type": "code",
   "execution_count": 21,
   "id": "26db29cd-30e8-4e27-9c98-a3cf0cdde58b",
   "metadata": {},
   "outputs": [],
   "source": [
    "import pandas as pd\n",
    "import io, requests\n",
    "import geopandas as gpd\n",
    "import matplotlib.pyplot as plt"
   ]
  },
  {
   "cell_type": "code",
   "execution_count": 5,
   "id": "9dc89701-a1ea-46eb-92e2-82a32edbbde5",
   "metadata": {},
   "outputs": [
    {
     "name": "stdout",
     "output_type": "stream",
     "text": [
      "['Data', 'data', '.ipynb_checkpoints', 'Week2_DataExplorationHW_sienna.ipynb']\n"
     ]
    }
   ],
   "source": [
    "print(os.listdir())"
   ]
  },
  {
   "cell_type": "code",
   "execution_count": 6,
   "id": "e66709fc-f1ac-40a6-8dc6-c533c3e467b1",
   "metadata": {
    "scrolled": true
   },
   "outputs": [],
   "source": [
    "os.chdir('data')"
   ]
  },
  {
   "cell_type": "code",
   "execution_count": 7,
   "id": "b8e377c5-8b6d-499a-8eb0-be1adfbcdc67",
   "metadata": {},
   "outputs": [],
   "source": [
    "import pandas as pd\n",
    "import geopandas as gpd\n",
    "import io, requests\n",
    "\n",
    "# Read the CSV file\n",
    "data = pd.read_csv('CDESchoolDirectoryExport.csv', na_values=[\"No Data\", \"Information Redacted\"])"
   ]
  },
  {
   "cell_type": "code",
   "execution_count": 8,
   "id": "5c3295a5-3707-4b27-aaac-fb10aaa273d1",
   "metadata": {},
   "outputs": [
    {
     "data": {
      "text/plain": [
       "pandas.core.frame.DataFrame"
      ]
     },
     "execution_count": 8,
     "metadata": {},
     "output_type": "execute_result"
    }
   ],
   "source": [
    "# What is the data type\n",
    "type(data)"
   ]
  },
  {
   "cell_type": "code",
   "execution_count": null,
   "id": "1184b025-d2e8-4b3b-82c3-b32c95b48162",
   "metadata": {},
   "outputs": [],
   "source": [
    "# This dataset shows that there is a tabular data organized by rows and columns."
   ]
  },
  {
   "cell_type": "code",
   "execution_count": 9,
   "id": "5c2e6447-0879-465e-a907-b92b8ce2eb11",
   "metadata": {},
   "outputs": [
    {
     "data": {
      "text/html": [
       "<div>\n",
       "<style scoped>\n",
       "    .dataframe tbody tr th:only-of-type {\n",
       "        vertical-align: middle;\n",
       "    }\n",
       "\n",
       "    .dataframe tbody tr th {\n",
       "        vertical-align: top;\n",
       "    }\n",
       "\n",
       "    .dataframe thead th {\n",
       "        text-align: right;\n",
       "    }\n",
       "</style>\n",
       "<table border=\"1\" class=\"dataframe\">\n",
       "  <thead>\n",
       "    <tr style=\"text-align: right;\">\n",
       "      <th></th>\n",
       "      <th>Record Type</th>\n",
       "      <th>CDS Code</th>\n",
       "      <th>County</th>\n",
       "      <th>District</th>\n",
       "      <th>School</th>\n",
       "      <th>Status</th>\n",
       "      <th>Entity Type</th>\n",
       "      <th>Public Yes/No</th>\n",
       "      <th>Longitude</th>\n",
       "      <th>Last Update</th>\n",
       "      <th>Street Address</th>\n",
       "      <th>Street City</th>\n",
       "      <th>Street State</th>\n",
       "      <th>Street Zip</th>\n",
       "    </tr>\n",
       "    <tr>\n",
       "      <th>Latitude</th>\n",
       "      <th></th>\n",
       "      <th></th>\n",
       "      <th></th>\n",
       "      <th></th>\n",
       "      <th></th>\n",
       "      <th></th>\n",
       "      <th></th>\n",
       "      <th></th>\n",
       "      <th></th>\n",
       "      <th></th>\n",
       "      <th></th>\n",
       "      <th></th>\n",
       "      <th></th>\n",
       "      <th></th>\n",
       "    </tr>\n",
       "  </thead>\n",
       "  <tbody>\n",
       "    <tr>\n",
       "      <th>48.948390</th>\n",
       "      <td>1</td>\n",
       "      <td>1</td>\n",
       "      <td>1</td>\n",
       "      <td>1</td>\n",
       "      <td>1</td>\n",
       "      <td>1</td>\n",
       "      <td>1</td>\n",
       "      <td>1</td>\n",
       "      <td>1</td>\n",
       "      <td>1</td>\n",
       "      <td>1</td>\n",
       "      <td>1</td>\n",
       "      <td>1</td>\n",
       "      <td>1</td>\n",
       "    </tr>\n",
       "    <tr>\n",
       "      <th>48.828670</th>\n",
       "      <td>1</td>\n",
       "      <td>1</td>\n",
       "      <td>1</td>\n",
       "      <td>1</td>\n",
       "      <td>1</td>\n",
       "      <td>1</td>\n",
       "      <td>1</td>\n",
       "      <td>1</td>\n",
       "      <td>1</td>\n",
       "      <td>1</td>\n",
       "      <td>1</td>\n",
       "      <td>1</td>\n",
       "      <td>1</td>\n",
       "      <td>1</td>\n",
       "    </tr>\n",
       "    <tr>\n",
       "      <th>46.578174</th>\n",
       "      <td>1</td>\n",
       "      <td>1</td>\n",
       "      <td>1</td>\n",
       "      <td>1</td>\n",
       "      <td>1</td>\n",
       "      <td>1</td>\n",
       "      <td>1</td>\n",
       "      <td>1</td>\n",
       "      <td>1</td>\n",
       "      <td>1</td>\n",
       "      <td>1</td>\n",
       "      <td>1</td>\n",
       "      <td>1</td>\n",
       "      <td>1</td>\n",
       "    </tr>\n",
       "    <tr>\n",
       "      <th>45.737746</th>\n",
       "      <td>1</td>\n",
       "      <td>1</td>\n",
       "      <td>1</td>\n",
       "      <td>1</td>\n",
       "      <td>1</td>\n",
       "      <td>1</td>\n",
       "      <td>1</td>\n",
       "      <td>1</td>\n",
       "      <td>1</td>\n",
       "      <td>1</td>\n",
       "      <td>1</td>\n",
       "      <td>1</td>\n",
       "      <td>1</td>\n",
       "      <td>1</td>\n",
       "    </tr>\n",
       "    <tr>\n",
       "      <th>44.099435</th>\n",
       "      <td>1</td>\n",
       "      <td>1</td>\n",
       "      <td>1</td>\n",
       "      <td>1</td>\n",
       "      <td>1</td>\n",
       "      <td>1</td>\n",
       "      <td>1</td>\n",
       "      <td>1</td>\n",
       "      <td>1</td>\n",
       "      <td>1</td>\n",
       "      <td>1</td>\n",
       "      <td>1</td>\n",
       "      <td>1</td>\n",
       "      <td>1</td>\n",
       "    </tr>\n",
       "    <tr>\n",
       "      <th>...</th>\n",
       "      <td>...</td>\n",
       "      <td>...</td>\n",
       "      <td>...</td>\n",
       "      <td>...</td>\n",
       "      <td>...</td>\n",
       "      <td>...</td>\n",
       "      <td>...</td>\n",
       "      <td>...</td>\n",
       "      <td>...</td>\n",
       "      <td>...</td>\n",
       "      <td>...</td>\n",
       "      <td>...</td>\n",
       "      <td>...</td>\n",
       "      <td>...</td>\n",
       "    </tr>\n",
       "    <tr>\n",
       "      <th>32.547737</th>\n",
       "      <td>1</td>\n",
       "      <td>1</td>\n",
       "      <td>1</td>\n",
       "      <td>1</td>\n",
       "      <td>1</td>\n",
       "      <td>1</td>\n",
       "      <td>1</td>\n",
       "      <td>1</td>\n",
       "      <td>1</td>\n",
       "      <td>1</td>\n",
       "      <td>1</td>\n",
       "      <td>1</td>\n",
       "      <td>1</td>\n",
       "      <td>1</td>\n",
       "    </tr>\n",
       "    <tr>\n",
       "      <th>32.545287</th>\n",
       "      <td>1</td>\n",
       "      <td>1</td>\n",
       "      <td>1</td>\n",
       "      <td>1</td>\n",
       "      <td>1</td>\n",
       "      <td>1</td>\n",
       "      <td>1</td>\n",
       "      <td>1</td>\n",
       "      <td>1</td>\n",
       "      <td>1</td>\n",
       "      <td>1</td>\n",
       "      <td>1</td>\n",
       "      <td>1</td>\n",
       "      <td>1</td>\n",
       "    </tr>\n",
       "    <tr>\n",
       "      <th>30.666956</th>\n",
       "      <td>1</td>\n",
       "      <td>1</td>\n",
       "      <td>1</td>\n",
       "      <td>1</td>\n",
       "      <td>1</td>\n",
       "      <td>1</td>\n",
       "      <td>1</td>\n",
       "      <td>1</td>\n",
       "      <td>1</td>\n",
       "      <td>1</td>\n",
       "      <td>1</td>\n",
       "      <td>1</td>\n",
       "      <td>1</td>\n",
       "      <td>1</td>\n",
       "    </tr>\n",
       "    <tr>\n",
       "      <th>29.586996</th>\n",
       "      <td>1</td>\n",
       "      <td>1</td>\n",
       "      <td>1</td>\n",
       "      <td>1</td>\n",
       "      <td>1</td>\n",
       "      <td>1</td>\n",
       "      <td>1</td>\n",
       "      <td>1</td>\n",
       "      <td>1</td>\n",
       "      <td>1</td>\n",
       "      <td>1</td>\n",
       "      <td>1</td>\n",
       "      <td>1</td>\n",
       "      <td>1</td>\n",
       "    </tr>\n",
       "    <tr>\n",
       "      <th>28.233947</th>\n",
       "      <td>1</td>\n",
       "      <td>1</td>\n",
       "      <td>1</td>\n",
       "      <td>1</td>\n",
       "      <td>1</td>\n",
       "      <td>1</td>\n",
       "      <td>1</td>\n",
       "      <td>1</td>\n",
       "      <td>1</td>\n",
       "      <td>1</td>\n",
       "      <td>1</td>\n",
       "      <td>1</td>\n",
       "      <td>1</td>\n",
       "      <td>1</td>\n",
       "    </tr>\n",
       "  </tbody>\n",
       "</table>\n",
       "<p>14596 rows × 14 columns</p>\n",
       "</div>"
      ],
      "text/plain": [
       "           Record Type  CDS Code  County  District  School  Status  \\\n",
       "Latitude                                                             \n",
       "48.948390            1         1       1         1       1       1   \n",
       "48.828670            1         1       1         1       1       1   \n",
       "46.578174            1         1       1         1       1       1   \n",
       "45.737746            1         1       1         1       1       1   \n",
       "44.099435            1         1       1         1       1       1   \n",
       "...                ...       ...     ...       ...     ...     ...   \n",
       "32.547737            1         1       1         1       1       1   \n",
       "32.545287            1         1       1         1       1       1   \n",
       "30.666956            1         1       1         1       1       1   \n",
       "29.586996            1         1       1         1       1       1   \n",
       "28.233947            1         1       1         1       1       1   \n",
       "\n",
       "           Entity Type  Public Yes/No  Longitude  Last Update  Street Address  \\\n",
       "Latitude                                                                        \n",
       "48.948390            1              1          1            1               1   \n",
       "48.828670            1              1          1            1               1   \n",
       "46.578174            1              1          1            1               1   \n",
       "45.737746            1              1          1            1               1   \n",
       "44.099435            1              1          1            1               1   \n",
       "...                ...            ...        ...          ...             ...   \n",
       "32.547737            1              1          1            1               1   \n",
       "32.545287            1              1          1            1               1   \n",
       "30.666956            1              1          1            1               1   \n",
       "29.586996            1              1          1            1               1   \n",
       "28.233947            1              1          1            1               1   \n",
       "\n",
       "           Street City  Street State  Street Zip  \n",
       "Latitude                                          \n",
       "48.948390            1             1           1  \n",
       "48.828670            1             1           1  \n",
       "46.578174            1             1           1  \n",
       "45.737746            1             1           1  \n",
       "44.099435            1             1           1  \n",
       "...                ...           ...         ...  \n",
       "32.547737            1             1           1  \n",
       "32.545287            1             1           1  \n",
       "30.666956            1             1           1  \n",
       "29.586996            1             1           1  \n",
       "28.233947            1             1           1  \n",
       "\n",
       "[14596 rows x 14 columns]"
      ]
     },
     "execution_count": 9,
     "metadata": {},
     "output_type": "execute_result"
    }
   ],
   "source": [
    "# Grouping data: This command verifies that all the rows have a value associated.\n",
    "data.groupby(\"Latitude\").count().sort_values(\"Latitude\", ascending=False)"
   ]
  },
  {
   "cell_type": "code",
   "execution_count": null,
   "id": "01ddde32-5aa0-4511-925d-3772a63cf913",
   "metadata": {},
   "outputs": [],
   "source": [
    "# This output shows the 14596 rows and the latitude associated with it."
   ]
  },
  {
   "cell_type": "code",
   "execution_count": 11,
   "id": "408e4567-2c11-499c-b13f-aefd95db59dd",
   "metadata": {},
   "outputs": [],
   "source": [
    "# Convert to GeoDataFrame (assuming the file has latitude and longitude columns)\n",
    "gdf = gpd.GeoDataFrame(\n",
    "    data, \n",
    "    geometry=gpd.points_from_xy(data.Longitude, data.Latitude),\n",
    "    crs=\"EPSG:4326\"\n",
    ")"
   ]
  },
  {
   "cell_type": "code",
   "execution_count": 18,
   "id": "6eb6dc9f-dd3a-4356-aa0e-2ef0581dbdd6",
   "metadata": {},
   "outputs": [
    {
     "name": "stdout",
     "output_type": "stream",
     "text": [
      "Index(['Record Type', 'CDS Code', 'County', 'District', 'School', 'Status',\n",
      "       'Entity Type', 'Public Yes/No', 'Latitude', 'Longitude', 'Last Update',\n",
      "       'Street Address', 'Street City', 'Street State', 'Street Zip'],\n",
      "      dtype='object')\n"
     ]
    }
   ],
   "source": [
    "# Columns: It show the 14 Column names in the data set.\n",
    "print(data.columns)"
   ]
  },
  {
   "cell_type": "code",
   "execution_count": null,
   "id": "3d9d1e95-d236-4c3a-866d-ece757a610ab",
   "metadata": {},
   "outputs": [],
   "source": [
    "# This column shows the names in the dataset: 'Record Type', 'CDS Code', 'County', 'District', 'School', 'Status', 'Entity Type', 'Public Yes/No', 'Latitude', 'Longitude', 'Last Update','Street Address', 'Street City', 'Street State', and 'Street Zip'."
   ]
  },
  {
   "cell_type": "code",
   "execution_count": 15,
   "id": "c24322c9-e923-4ec0-9563-45568f1aa3cd",
   "metadata": {},
   "outputs": [
    {
     "data": {
      "text/plain": [
       "(27446, 15)"
      ]
     },
     "execution_count": 15,
     "metadata": {},
     "output_type": "execute_result"
    }
   ],
   "source": [
    "# Data Shape: This shows the number of rows and columns.\n",
    "data.shape"
   ]
  },
  {
   "cell_type": "code",
   "execution_count": null,
   "id": "e5eada88-aa60-46b5-983d-2d6061094f25",
   "metadata": {},
   "outputs": [],
   "source": [
    "# This output shows the dataset contains 27446 rows and 15 columns, representing individual schools and their various attributes."
   ]
  },
  {
   "cell_type": "code",
   "execution_count": 17,
   "id": "fef000db-19c3-405f-9dac-a6a68528f635",
   "metadata": {},
   "outputs": [
    {
     "name": "stdout",
     "output_type": "stream",
     "text": [
      "<class 'pandas.core.frame.DataFrame'>\n",
      "RangeIndex: 27446 entries, 0 to 27445\n",
      "Data columns (total 15 columns):\n",
      " #   Column          Non-Null Count  Dtype  \n",
      "---  ------          --------------  -----  \n",
      " 0   Record Type     27446 non-null  object \n",
      " 1   CDS Code        27446 non-null  int64  \n",
      " 2   County          27445 non-null  object \n",
      " 3   District        27445 non-null  object \n",
      " 4   School          25924 non-null  object \n",
      " 5   Status          27445 non-null  object \n",
      " 6   Entity Type     27445 non-null  object \n",
      " 7   Public Yes/No   25925 non-null  object \n",
      " 8   Latitude        15537 non-null  float64\n",
      " 9   Longitude       15537 non-null  float64\n",
      " 10  Last Update     27445 non-null  object \n",
      " 11  Street Address  21348 non-null  object \n",
      " 12  Street City     26912 non-null  object \n",
      " 13  Street State    26912 non-null  object \n",
      " 14  Street Zip      26912 non-null  object \n",
      "dtypes: float64(2), int64(1), object(12)\n",
      "memory usage: 3.1+ MB\n"
     ]
    }
   ],
   "source": [
    "# Data Information: This command shows the information regarding the number of entries, columns, and memory usage.\n",
    "data.info()"
   ]
  },
  {
   "cell_type": "code",
   "execution_count": null,
   "id": "b11c780c-ff0f-478e-9a6b-885083bf6f99",
   "metadata": {},
   "outputs": [],
   "source": [
    "# This dataset contaims 15 columns, indicating that most columns have complete and incomplete data by \"non-null values\"."
   ]
  },
  {
   "cell_type": "code",
   "execution_count": 19,
   "id": "514b4392-9fea-402b-bc32-a276542aae6f",
   "metadata": {},
   "outputs": [
    {
     "data": {
      "text/html": [
       "<div>\n",
       "<style scoped>\n",
       "    .dataframe tbody tr th:only-of-type {\n",
       "        vertical-align: middle;\n",
       "    }\n",
       "\n",
       "    .dataframe tbody tr th {\n",
       "        vertical-align: top;\n",
       "    }\n",
       "\n",
       "    .dataframe thead th {\n",
       "        text-align: right;\n",
       "    }\n",
       "</style>\n",
       "<table border=\"1\" class=\"dataframe\">\n",
       "  <thead>\n",
       "    <tr style=\"text-align: right;\">\n",
       "      <th></th>\n",
       "      <th>Record Type</th>\n",
       "      <th>CDS Code</th>\n",
       "      <th>County</th>\n",
       "      <th>District</th>\n",
       "      <th>School</th>\n",
       "      <th>Status</th>\n",
       "      <th>Entity Type</th>\n",
       "      <th>Public Yes/No</th>\n",
       "      <th>Latitude</th>\n",
       "      <th>Longitude</th>\n",
       "      <th>Last Update</th>\n",
       "      <th>Street Address</th>\n",
       "      <th>Street City</th>\n",
       "      <th>Street State</th>\n",
       "      <th>Street Zip</th>\n",
       "    </tr>\n",
       "  </thead>\n",
       "  <tbody>\n",
       "    <tr>\n",
       "      <th>0</th>\n",
       "      <td>District</td>\n",
       "      <td>1407900000000</td>\n",
       "      <td>Alameda</td>\n",
       "      <td>Alameda Cnty. Student Exchange Prog.</td>\n",
       "      <td>NaN</td>\n",
       "      <td>Active</td>\n",
       "      <td>Joint Powers Authority (JPA)</td>\n",
       "      <td>NaN</td>\n",
       "      <td>NaN</td>\n",
       "      <td>NaN</td>\n",
       "      <td>7/2/2013</td>\n",
       "      <td>313 West Winton Ave.</td>\n",
       "      <td>Hayward</td>\n",
       "      <td>CA</td>\n",
       "      <td>94544-1136</td>\n",
       "    </tr>\n",
       "    <tr>\n",
       "      <th>1</th>\n",
       "      <td>District</td>\n",
       "      <td>1100170000000</td>\n",
       "      <td>Alameda</td>\n",
       "      <td>Alameda County Office of Education</td>\n",
       "      <td>NaN</td>\n",
       "      <td>Active</td>\n",
       "      <td>County Office of Education (COE)</td>\n",
       "      <td>NaN</td>\n",
       "      <td>NaN</td>\n",
       "      <td>NaN</td>\n",
       "      <td>3/8/2023</td>\n",
       "      <td>313 West Winton Ave.</td>\n",
       "      <td>Hayward</td>\n",
       "      <td>CA</td>\n",
       "      <td>94544-1136</td>\n",
       "    </tr>\n",
       "    <tr>\n",
       "      <th>2</th>\n",
       "      <td>School</td>\n",
       "      <td>1100170130419</td>\n",
       "      <td>Alameda</td>\n",
       "      <td>Alameda County Office of Education</td>\n",
       "      <td>Alameda County Community</td>\n",
       "      <td>Active</td>\n",
       "      <td>County Community</td>\n",
       "      <td>Y</td>\n",
       "      <td>37.658212</td>\n",
       "      <td>-122.097138</td>\n",
       "      <td>8/8/2024</td>\n",
       "      <td>313 West Winton Ave.</td>\n",
       "      <td>Hayward</td>\n",
       "      <td>CA</td>\n",
       "      <td>94544-1136</td>\n",
       "    </tr>\n",
       "    <tr>\n",
       "      <th>3</th>\n",
       "      <td>School</td>\n",
       "      <td>1100170130401</td>\n",
       "      <td>Alameda</td>\n",
       "      <td>Alameda County Office of Education</td>\n",
       "      <td>Alameda County Juvenile Hall/Court</td>\n",
       "      <td>Active</td>\n",
       "      <td>Juvenile Court Schools</td>\n",
       "      <td>Y</td>\n",
       "      <td>37.712878</td>\n",
       "      <td>-122.111731</td>\n",
       "      <td>12/16/2024</td>\n",
       "      <td>2500 Fairmont Ave.</td>\n",
       "      <td>San Leandro</td>\n",
       "      <td>CA</td>\n",
       "      <td>94578-1005</td>\n",
       "    </tr>\n",
       "    <tr>\n",
       "      <th>4</th>\n",
       "      <td>School</td>\n",
       "      <td>1100170130427</td>\n",
       "      <td>Alameda</td>\n",
       "      <td>Alameda County Office of Education</td>\n",
       "      <td>Alameda County Opportunity</td>\n",
       "      <td>Closed</td>\n",
       "      <td>Opportunity Schools</td>\n",
       "      <td>Y</td>\n",
       "      <td>37.658212</td>\n",
       "      <td>-122.097138</td>\n",
       "      <td>4/28/2014</td>\n",
       "      <td>313 West Winton Ave.</td>\n",
       "      <td>Hayward</td>\n",
       "      <td>CA</td>\n",
       "      <td>94544-1136</td>\n",
       "    </tr>\n",
       "  </tbody>\n",
       "</table>\n",
       "</div>"
      ],
      "text/plain": [
       "  Record Type       CDS Code   County                              District  \\\n",
       "0    District  1407900000000  Alameda  Alameda Cnty. Student Exchange Prog.   \n",
       "1    District  1100170000000  Alameda    Alameda County Office of Education   \n",
       "2      School  1100170130419  Alameda    Alameda County Office of Education   \n",
       "3      School  1100170130401  Alameda    Alameda County Office of Education   \n",
       "4      School  1100170130427  Alameda    Alameda County Office of Education   \n",
       "\n",
       "                               School  Status  \\\n",
       "0                                 NaN  Active   \n",
       "1                                 NaN  Active   \n",
       "2            Alameda County Community  Active   \n",
       "3  Alameda County Juvenile Hall/Court  Active   \n",
       "4          Alameda County Opportunity  Closed   \n",
       "\n",
       "                        Entity Type Public Yes/No   Latitude   Longitude  \\\n",
       "0      Joint Powers Authority (JPA)           NaN        NaN         NaN   \n",
       "1  County Office of Education (COE)           NaN        NaN         NaN   \n",
       "2                  County Community             Y  37.658212 -122.097138   \n",
       "3            Juvenile Court Schools             Y  37.712878 -122.111731   \n",
       "4               Opportunity Schools             Y  37.658212 -122.097138   \n",
       "\n",
       "  Last Update        Street Address  Street City Street State  Street Zip  \n",
       "0    7/2/2013  313 West Winton Ave.      Hayward           CA  94544-1136  \n",
       "1    3/8/2023  313 West Winton Ave.      Hayward           CA  94544-1136  \n",
       "2    8/8/2024  313 West Winton Ave.      Hayward           CA  94544-1136  \n",
       "3  12/16/2024    2500 Fairmont Ave.  San Leandro           CA  94578-1005  \n",
       "4   4/28/2014  313 West Winton Ave.      Hayward           CA  94544-1136  "
      ]
     },
     "execution_count": 19,
     "metadata": {},
     "output_type": "execute_result"
    }
   ],
   "source": [
    "# Data preview: This command shows the first few rows. \n",
    "data.head()"
   ]
  },
  {
   "cell_type": "code",
   "execution_count": null,
   "id": "5d209ef0-22cb-46c0-9264-72ed1202434d",
   "metadata": {},
   "outputs": [],
   "source": [
    "# This output shows the first 5 rows of the dataset."
   ]
  },
  {
   "cell_type": "code",
   "execution_count": 28,
   "id": "d79e6703-d982-424f-81a5-33aa7595c546",
   "metadata": {},
   "outputs": [
    {
     "data": {
      "image/png": "[encoded data removed]",
      "text/plain": [
       "<Figure size 1000x1000 with 1 Axes>"
      ]
     },
     "metadata": {},
     "output_type": "display_data"
    }
   ],
   "source": [
    "# Plotting latitude and longitutde: This command created a basic plot of the points of the California School Locations.\n",
    "gdf.plot(figsize=(10, 10))\n",
    "plt.title('California Schools Locations')\n",
    "plt.axis('equal')\n",
    "plt.show()"
   ]
  },
  {
   "cell_type": "code",
   "execution_count": null,
   "id": "5313ee62-477b-4704-b302-634c5ac415a1",
   "metadata": {},
   "outputs": [],
   "source": [
    "# This output displays a distribution of schools in California, where the majority of schools reside on the South West."
   ]
  },
  {
   "cell_type": "code",
   "execution_count": 25,
   "id": "41cbd468-ff78-4fbe-b2a9-abdd783bd3af",
   "metadata": {},
   "outputs": [
    {
     "name": "stdout",
     "output_type": "stream",
     "text": [
      "Street City\n",
      "Los Angeles          1413\n",
      "San Diego             627\n",
      "San Jose              573\n",
      "Sacramento            502\n",
      "San Francisco         456\n",
      "                     ... \n",
      "Walnut.                 1\n",
      "Diamond Bar 91789       1\n",
      "VALENCIA                1\n",
      "lancaster               1\n",
      "Stratford               1\n",
      "Name: count, Length: 1705, dtype: int64\n"
     ]
    }
   ],
   "source": [
    "# Value Counts: This command includes the counts for the categorical column titled 'Street City' for all California Schools.\n",
    "print(gdf['Street City'].value_counts())"
   ]
  },
  {
   "cell_type": "code",
   "execution_count": null,
   "id": "587e9590-a17b-4217-9176-3af5c85c8b42",
   "metadata": {},
   "outputs": [],
   "source": [
    "# The output of value count shows the 1705 California cities in ascending order. It shows that the top three cities in California are Los Angeles, San Diego, and San Jose. "
   ]
  },
  {
   "cell_type": "code",
   "execution_count": 27,
   "id": "8c425e0a-04fc-4fc9-9833-d071726b9bcd",
   "metadata": {},
   "outputs": [
    {
     "data": {
      "image/png": "[encoded data removed]",
      "text/plain": [
       "<Figure size 1000x1000 with 1 Axes>"
      ]
     },
     "metadata": {},
     "output_type": "display_data"
    }
   ],
   "source": [
    "# This command creates a filter for LA schools in a specific city and plots it by latitude and longitude. \n",
    "la_schools = gdf[gdf['Street City'] == 'Los Angeles']\n",
    "la_schools.plot(figsize=(10, 10))\n",
    "plt.title('Los Angeles')\n",
    "plt.axis('equal')\n",
    "plt.show()"
   ]
  },
  {
   "cell_type": "code",
   "execution_count": null,
   "id": "48f03628-2aa1-40bd-8c86-03bdf586ff6d",
   "metadata": {},
   "outputs": [],
   "source": [
    "# This map shows a distribution of California Department of Education Schools, however I was unable to import an overlay the city of Los Angeles."
   ]
  }
 ],
 "metadata": {
  "kernelspec": {
   "display_name": "Python 3 (ipykernel)",
   "language": "python",
   "name": "python3"
  },
  "language_info": {
   "codemirror_mode": {
    "name": "ipython",
    "version": 3
   },
   "file_extension": ".py",
   "mimetype": "text/x-python",
   "name": "python",
   "nbconvert_exporter": "python",
   "pygments_lexer": "ipython3",
   "version": "3.11.9"
  }
 },
 "nbformat": 4,
 "nbformat_minor": 5
}
