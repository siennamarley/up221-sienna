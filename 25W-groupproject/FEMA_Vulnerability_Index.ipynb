{
 "cells": [
  {
   "cell_type": "code",
   "execution_count": 214,
   "id": "914951d1-fc5c-4189-a2d9-43cca3eb3724",
   "metadata": {},
   "outputs": [],
   "source": [
    "# LA case study:  Hot-spots in FEMA Vulnerability Index\n",
    "## I am specifically interested in understanding FEMA Vulnerability Index, specifically Heat Wave Vulnerability. In this notebook, I created a chloropleth map and chart. I am currently trouble shooting how to create a centroid given the shapefile and for loops."
   ]
  },
  {
   "cell_type": "code",
   "execution_count": 215,
   "id": "397de625-6f92-438c-adb0-d8416c6427d8",
   "metadata": {},
   "outputs": [],
   "source": [
    "import pandas as pd\n",
    "import geopandas as gpd\n",
    "\n",
    "# to give more power to your figures (plots)\n",
    "import matplotlib.pyplot as plt\n",
    "\n",
    "import contextily as ctx"
   ]
  },
  {
   "cell_type": "code",
   "execution_count": 216,
   "id": "31f3548b-0cec-4e6c-aa3c-3098306ccde5",
   "metadata": {},
   "outputs": [
    {
     "name": "stdout",
     "output_type": "stream",
     "text": [
      "/home/jovyan/up221-sienna/25W-groupproject\n"
     ]
    }
   ],
   "source": [
    "import os\n",
    "print(os.getcwd())"
   ]
  },
  {
   "cell_type": "code",
   "execution_count": 217,
   "id": "4722dc11-b22b-40e1-8929-970e54883ecf",
   "metadata": {},
   "outputs": [
    {
     "name": "stdout",
     "output_type": "stream",
     "text": [
      "['data', '.ipynb_checkpoints', 'Age_Profile_Los_Angeles.ipynb', 'FEMA_Vulnerability_Index.ipynb']\n"
     ]
    }
   ],
   "source": [
    "print(os.listdir())"
   ]
  },
  {
   "cell_type": "code",
   "execution_count": 218,
   "id": "f3a6bab3-153a-467a-b1ae-e48958068bd8",
   "metadata": {},
   "outputs": [],
   "source": [
    "import geopandas as gpd\n",
    "import pyogrio\n",
    "\n",
    "# Read only re Los Angeles County data\n",
    "la_county = pyogrio.read_dataframe(\"data/NRI_Shapefile_CensusTracts.shp\", \n",
    "                                   where=\"COUNTY = 'Los Angeles' AND STATE = 'California'\",\n",
    "                                   columns=[\"COUNTY\", \"STATE\", \"TRACT\", \"TRACTFIPS\", \"HWAV_RISKV\", \"HWAV_RISKS\", \"HWAV_RISKR\"])\n",
    "\n",
    "# Convert to GeoDataFrame\n",
    "la_county_gdf = gpd.GeoDataFrame(la_county,crs='epsg:2229', geometry=\"geometry\")"
   ]
  },
  {
   "cell_type": "code",
   "execution_count": 219,
   "id": "57e631dc-d870-4fcb-be7b-bf21c0045f6d",
   "metadata": {},
   "outputs": [
    {
     "data": {
      "text/html": [
       "<div>\n",
       "<style scoped>\n",
       "    .dataframe tbody tr th:only-of-type {\n",
       "        vertical-align: middle;\n",
       "    }\n",
       "\n",
       "    .dataframe tbody tr th {\n",
       "        vertical-align: top;\n",
       "    }\n",
       "\n",
       "    .dataframe thead th {\n",
       "        text-align: right;\n",
       "    }\n",
       "</style>\n",
       "<table border=\"1\" class=\"dataframe\">\n",
       "  <thead>\n",
       "    <tr style=\"text-align: right;\">\n",
       "      <th></th>\n",
       "      <th>COUNTY</th>\n",
       "      <th>HWAV_RISKR</th>\n",
       "      <th>HWAV_RISKS</th>\n",
       "      <th>HWAV_RISKV</th>\n",
       "      <th>STATE</th>\n",
       "      <th>TRACT</th>\n",
       "      <th>TRACTFIPS</th>\n",
       "      <th>geometry</th>\n",
       "    </tr>\n",
       "  </thead>\n",
       "  <tbody>\n",
       "    <tr>\n",
       "      <th>0</th>\n",
       "      <td>Los Angeles</td>\n",
       "      <td>Relatively Low</td>\n",
       "      <td>43.973267</td>\n",
       "      <td>6451.720938</td>\n",
       "      <td>California</td>\n",
       "      <td>101110</td>\n",
       "      <td>06037101110</td>\n",
       "      <td>POLYGON ((-13168866.824 4064202.623, -13168760...</td>\n",
       "    </tr>\n",
       "    <tr>\n",
       "      <th>1</th>\n",
       "      <td>Los Angeles</td>\n",
       "      <td>Relatively Low</td>\n",
       "      <td>34.239880</td>\n",
       "      <td>3394.886179</td>\n",
       "      <td>California</td>\n",
       "      <td>101122</td>\n",
       "      <td>06037101122</td>\n",
       "      <td>POLYGON ((-13166585.108 4063755.581, -13166589...</td>\n",
       "    </tr>\n",
       "    <tr>\n",
       "      <th>2</th>\n",
       "      <td>Los Angeles</td>\n",
       "      <td>Relatively Low</td>\n",
       "      <td>38.557770</td>\n",
       "      <td>4577.152952</td>\n",
       "      <td>California</td>\n",
       "      <td>101220</td>\n",
       "      <td>06037101220</td>\n",
       "      <td>POLYGON ((-13167426.461 4063214.952, -13167371...</td>\n",
       "    </tr>\n",
       "    <tr>\n",
       "      <th>3</th>\n",
       "      <td>Los Angeles</td>\n",
       "      <td>Relatively Low</td>\n",
       "      <td>40.336774</td>\n",
       "      <td>5157.533315</td>\n",
       "      <td>California</td>\n",
       "      <td>101221</td>\n",
       "      <td>06037101221</td>\n",
       "      <td>POLYGON ((-13167688.396 4063216.972, -13167688...</td>\n",
       "    </tr>\n",
       "    <tr>\n",
       "      <th>4</th>\n",
       "      <td>Los Angeles</td>\n",
       "      <td>Relatively Low</td>\n",
       "      <td>37.661133</td>\n",
       "      <td>4322.069956</td>\n",
       "      <td>California</td>\n",
       "      <td>101222</td>\n",
       "      <td>06037101222</td>\n",
       "      <td>POLYGON ((-13167531.546 4063215.76, -13167531....</td>\n",
       "    </tr>\n",
       "  </tbody>\n",
       "</table>\n",
       "</div>"
      ],
      "text/plain": [
       "        COUNTY      HWAV_RISKR  HWAV_RISKS   HWAV_RISKV       STATE   TRACT  \\\n",
       "0  Los Angeles  Relatively Low   43.973267  6451.720938  California  101110   \n",
       "1  Los Angeles  Relatively Low   34.239880  3394.886179  California  101122   \n",
       "2  Los Angeles  Relatively Low   38.557770  4577.152952  California  101220   \n",
       "3  Los Angeles  Relatively Low   40.336774  5157.533315  California  101221   \n",
       "4  Los Angeles  Relatively Low   37.661133  4322.069956  California  101222   \n",
       "\n",
       "     TRACTFIPS                                           geometry  \n",
       "0  06037101110  POLYGON ((-13168866.824 4064202.623, -13168760...  \n",
       "1  06037101122  POLYGON ((-13166585.108 4063755.581, -13166589...  \n",
       "2  06037101220  POLYGON ((-13167426.461 4063214.952, -13167371...  \n",
       "3  06037101221  POLYGON ((-13167688.396 4063216.972, -13167688...  \n",
       "4  06037101222  POLYGON ((-13167531.546 4063215.76, -13167531....  "
      ]
     },
     "execution_count": 219,
     "metadata": {},
     "output_type": "execute_result"
    }
   ],
   "source": [
    "#preview data and columns\n",
    "la_county_gdf.head(5)"
   ]
  },
  {
   "cell_type": "code",
   "execution_count": 220,
   "id": "10ea6669-ad9d-405b-b979-1ba00558e8aa",
   "metadata": {},
   "outputs": [
    {
     "name": "stdout",
     "output_type": "stream",
     "text": [
      "        COUNTY      HWAV_RISKR  HWAV_RISKS   HWAV_RISKV       STATE   TRACT  \\\n",
      "0  Los Angeles  Relatively Low   43.973267  6451.720938  California  101110   \n",
      "1  Los Angeles  Relatively Low   34.239880  3394.886179  California  101122   \n",
      "2  Los Angeles  Relatively Low   38.557770  4577.152952  California  101220   \n",
      "3  Los Angeles  Relatively Low   40.336774  5157.533315  California  101221   \n",
      "4  Los Angeles  Relatively Low   37.661133  4322.069956  California  101222   \n",
      "\n",
      "     TRACTFIPS                                           geometry  \n",
      "0  06037101110  POLYGON ((-13168866.824 4064202.623, -13168760...  \n",
      "1  06037101122  POLYGON ((-13166585.108 4063755.581, -13166589...  \n",
      "2  06037101220  POLYGON ((-13167426.461 4063214.952, -13167371...  \n",
      "3  06037101221  POLYGON ((-13167688.396 4063216.972, -13167688...  \n",
      "4  06037101222  POLYGON ((-13167531.546 4063215.76, -13167531....  \n",
      "<class 'geopandas.geodataframe.GeoDataFrame'>\n",
      "RangeIndex: 2495 entries, 0 to 2494\n",
      "Data columns (total 8 columns):\n",
      " #   Column      Non-Null Count  Dtype   \n",
      "---  ------      --------------  -----   \n",
      " 0   COUNTY      2495 non-null   object  \n",
      " 1   HWAV_RISKR  2495 non-null   object  \n",
      " 2   HWAV_RISKS  2495 non-null   float64 \n",
      " 3   HWAV_RISKV  2495 non-null   float64 \n",
      " 4   STATE       2495 non-null   object  \n",
      " 5   TRACT       2495 non-null   object  \n",
      " 6   TRACTFIPS   2495 non-null   object  \n",
      " 7   geometry    2495 non-null   geometry\n",
      "dtypes: float64(2), geometry(1), object(5)\n",
      "memory usage: 156.1+ KB\n",
      "None\n"
     ]
    }
   ],
   "source": [
    "#print columns and info\n",
    "print(la_county_gdf.head())\n",
    "print(la_county_gdf.info())"
   ]
  },
  {
   "cell_type": "code",
   "execution_count": 221,
   "id": "5802dcf5-3d74-4995-8632-760326b263e1",
   "metadata": {},
   "outputs": [
    {
     "data": {
      "text/plain": [
       "<Projected CRS: EPSG:2229>\n",
       "Name: NAD83 / California zone 5 (ftUS)\n",
       "Axis Info [cartesian]:\n",
       "- X[east]: Easting (US survey foot)\n",
       "- Y[north]: Northing (US survey foot)\n",
       "Area of Use:\n",
       "- name: United States (USA) - California - counties Kern; Los Angeles; San Bernardino; San Luis Obispo; Santa Barbara; Ventura.\n",
       "- bounds: (-121.42, 32.76, -114.12, 35.81)\n",
       "Coordinate Operation:\n",
       "- name: SPCS83 California zone 5 (US survey foot)\n",
       "- method: Lambert Conic Conformal (2SP)\n",
       "Datum: North American Datum 1983\n",
       "- Ellipsoid: GRS 1980\n",
       "- Prime Meridian: Greenwich"
      ]
     },
     "execution_count": 221,
     "metadata": {},
     "output_type": "execute_result"
    }
   ],
   "source": [
    "# output the data's projection\n",
    "la_county_gdf.crs"
   ]
  },
  {
   "cell_type": "code",
   "execution_count": 222,
   "id": "442cd40f-c733-46ee-9187-55ffb4c395ff",
   "metadata": {},
   "outputs": [
    {
     "name": "stdout",
     "output_type": "stream",
     "text": [
      "Requirement already satisfied: plotly in /opt/conda/lib/python3.11/site-packages (5.24.1)\n",
      "Requirement already satisfied: tenacity>=6.2.0 in /opt/conda/lib/python3.11/site-packages (from plotly) (9.0.0)\n",
      "Requirement already satisfied: packaging in /opt/conda/lib/python3.11/site-packages (from plotly) (24.1)\n"
     ]
    }
   ],
   "source": [
    "# to give more power to your figures (plots)\n",
    "import matplotlib.pyplot as plt\n",
    "!pip install plotly\n",
    "import contextily as ctx\n",
    "import plotly.express as px"
   ]
  },
  {
   "cell_type": "code",
   "execution_count": 223,
   "id": "d5ccab0e-1b3d-4eb8-a22a-afb584289a7f",
   "metadata": {},
   "outputs": [
    {
     "data": {
      "image/png": "[encoded data removed]",
      "text/plain": [
       "<Figure size 1200x800 with 2 Axes>"
      ]
     },
     "metadata": {},
     "output_type": "display_data"
    }
   ],
   "source": [
    "# Create Heat Wave Risk to Los Angeles County\n",
    "fig, ax = plt.subplots(figsize=(12, 8))\n",
    "la_county_gdf.plot(column='HWAV_RISKV', cmap='YlOrRd', legend=True, \n",
    "                   legend_kwds={'label': 'Heat Wave Risk Value'}, ax=ax, aspect=1)\n",
    "ax.set_title('Heat Wave Risk in Los Angeles County')\n",
    "plt.axis('off')\n",
    "plt.show()"
   ]
  },
  {
   "cell_type": "code",
   "execution_count": 200,
   "id": "edce7afa-a3eb-465a-9a88-d3843221d263",
   "metadata": {},
   "outputs": [
    {
     "name": "stdout",
     "output_type": "stream",
     "text": [
      "count     2495.000000\n",
      "mean      2957.976939\n",
      "std       2264.926447\n",
      "min          0.000000\n",
      "25%       1217.247601\n",
      "50%       2091.516341\n",
      "75%       4392.922512\n",
      "max      20601.516570\n",
      "Name: HWAV_RISKV, dtype: float64\n"
     ]
    }
   ],
   "source": [
    "#Basic statistics to try to find percentiles ranges\n",
    "print(la_county_gdf['HWAV_RISKV'].describe())"
   ]
  },
  {
   "cell_type": "code",
   "execution_count": 201,
   "id": "889429e9-f42e-4455-a12a-73ad3514a51e",
   "metadata": {},
   "outputs": [
    {
     "name": "stdout",
     "output_type": "stream",
     "text": [
      "           COUNTY           HWAV_RISKR  HWAV_RISKS    HWAV_RISKV       STATE  \\\n",
      "2345  Los Angeles  Relatively Moderate   66.121629  20601.516570  California   \n",
      "2399  Los Angeles  Relatively Moderate   63.057128  17796.676091  California   \n",
      "1207  Los Angeles  Relatively Moderate   55.345336  12248.324039  California   \n",
      "2352  Los Angeles  Relatively Moderate   54.860153  11929.875113  California   \n",
      "1604  Los Angeles  Relatively Moderate   54.686534  11820.073489  California   \n",
      "...           ...                  ...         ...           ...         ...   \n",
      "1043  Los Angeles             Very Low   15.674499      1.215177  California   \n",
      "2470  Los Angeles             Very Low   15.638824      0.668636  California   \n",
      "2492  Los Angeles             Very Low   15.509204      0.076883  California   \n",
      "2478  Los Angeles             Very Low   15.412881      0.005956  California   \n",
      "2461  Los Angeles            No Rating    0.000000      0.000000  California   \n",
      "\n",
      "       TRACT    TRACTFIPS                                           geometry  \n",
      "2345  901209  06037901209  POLYGON ((-13233850.945 4139156.214, -13233817...  \n",
      "2399  911100  06037911100  POLYGON ((-13122422.32 4111916.398, -13122370....  \n",
      "1207  401707  06037401707  POLYGON ((-13106404.321 4043695.904, -13106404...  \n",
      "2352  901300  06037901300  POLYGON ((-13151279.128 4131679.719, -13150281...  \n",
      "1604  502303  06037502303  POLYGON ((-13142843.987 4024810.002, -13142875...  \n",
      "...      ...          ...                                                ...  \n",
      "1043  277400  06037277400  POLYGON ((-13176897.187 4022450.1, -13176897.1...  \n",
      "2470  980012  06037980012  POLYGON ((-13152867.196 4019282.462, -13152952...  \n",
      "2492  980037  06037980037  POLYGON ((-13166372.925 4003033.101, -13166372...  \n",
      "2478  980020  06037980020  POLYGON ((-13168071.112 4060377.812, -13168028...  \n",
      "2461  980003  06037980003  POLYGON ((-13110585.384 4139895.655, -13110585...  \n",
      "\n",
      "[2495 rows x 8 columns]\n"
     ]
    }
   ],
   "source": [
    "# Define high-risk threshold\n",
    "high_risk_areas = la_county_gdf.sort_values('HWAV_RISKS', ascending=False)\n",
    "print(high_risk_areas)"
   ]
  },
  {
   "cell_type": "code",
   "execution_count": 202,
   "id": "a2aab735-7380-4256-8c5e-85a0611b2b7b",
   "metadata": {},
   "outputs": [
    {
     "name": "stdout",
     "output_type": "stream",
     "text": [
      "['Relatively Moderate', 'Relatively Low', 'Very Low', 'No Rating']\n"
     ]
    }
   ],
   "source": [
    "# Show distinct values of heat wave risk\n",
    "print(high_risk_areas['HWAV_RISKR'].unique().tolist())"
   ]
  },
  {
   "cell_type": "code",
   "execution_count": 203,
   "id": "864af2e5-925b-4fb5-aebd-44d9efab413e",
   "metadata": {},
   "outputs": [],
   "source": [
    "# Define the custom order\n",
    "custom_order = [\"No Rating\", \"Very Low\", \"Relatively Low\", \"Relatively Moderate\"]"
   ]
  },
  {
   "cell_type": "code",
   "execution_count": 204,
   "id": "4aa6ca93-a2af-4274-9ecb-600aa80987b3",
   "metadata": {},
   "outputs": [],
   "source": [
    "# Convert HWAV_RISKR to categorical type with the custom order\n",
    "risk_counts['HWAV_RISKR'] = pd.Categorical(risk_counts['HWAV_RISKR'], categories=custom_order, ordered=True)"
   ]
  },
  {
   "cell_type": "code",
   "execution_count": 205,
   "id": "c13965be-9200-479b-8252-f48d9e297ffe",
   "metadata": {},
   "outputs": [
    {
     "data": {
      "text/html": [
       "<div>\n",
       "<style scoped>\n",
       "    .dataframe tbody tr th:only-of-type {\n",
       "        vertical-align: middle;\n",
       "    }\n",
       "\n",
       "    .dataframe tbody tr th {\n",
       "        vertical-align: top;\n",
       "    }\n",
       "\n",
       "    .dataframe thead th {\n",
       "        text-align: right;\n",
       "    }\n",
       "</style>\n",
       "<table border=\"1\" class=\"dataframe\">\n",
       "  <thead>\n",
       "    <tr style=\"text-align: right;\">\n",
       "      <th></th>\n",
       "      <th>HWAV_RISKR</th>\n",
       "      <th>Count</th>\n",
       "    </tr>\n",
       "  </thead>\n",
       "  <tbody>\n",
       "    <tr>\n",
       "      <th>3</th>\n",
       "      <td>No Rating</td>\n",
       "      <td>1</td>\n",
       "    </tr>\n",
       "    <tr>\n",
       "      <th>1</th>\n",
       "      <td>Very Low</td>\n",
       "      <td>76</td>\n",
       "    </tr>\n",
       "    <tr>\n",
       "      <th>0</th>\n",
       "      <td>Relatively Low</td>\n",
       "      <td>2380</td>\n",
       "    </tr>\n",
       "    <tr>\n",
       "      <th>2</th>\n",
       "      <td>Relatively Moderate</td>\n",
       "      <td>38</td>\n",
       "    </tr>\n",
       "  </tbody>\n",
       "</table>\n",
       "</div>"
      ],
      "text/plain": [
       "            HWAV_RISKR  Count\n",
       "3            No Rating      1\n",
       "1             Very Low     76\n",
       "0       Relatively Low   2380\n",
       "2  Relatively Moderate     38"
      ]
     },
     "execution_count": 205,
     "metadata": {},
     "output_type": "execute_result"
    }
   ],
   "source": [
    "# Sort the dataframe based on the new categorical column\n",
    "risk_counts = risk_counts.sort_values('HWAV_RISKR')\n",
    "risk_counts"
   ]
  },
  {
   "cell_type": "code",
   "execution_count": 206,
   "id": "d37f2bb8-1c73-40e7-bb57-51ae0986c456",
   "metadata": {
    "scrolled": true
   },
   "outputs": [
    {
     "data": {
      "application/vnd.plotly.v1+json": {
       "config": {
        "plotlyServerURL": "https://plot.ly"
       },
       "data": [
        {
         "alignmentgroup": "True",
         "hovertemplate": "Heat Wave - Hazard Type Risk Index Rating=%{x}<br>Number of Heat Wave Types=%{y}<extra></extra>",
         "legendgroup": "",
         "marker": {
          "color": "#636efa",
          "line": {
           "width": 0
          },
          "pattern": {
           "shape": ""
          }
         },
         "name": "",
         "offsetgroup": "",
         "orientation": "v",
         "showlegend": false,
         "textposition": "auto",
         "type": "bar",
         "x": [
          "No Rating",
          "Very Low",
          "Relatively Low",
          "Relatively Moderate"
         ],
         "xaxis": "x",
         "y": [
          1,
          76,
          2380,
          38
         ],
         "yaxis": "y"
        }
       ],
       "layout": {
        "autosize": true,
        "barmode": "relative",
        "legend": {
         "tracegroupgap": 0
        },
        "template": {
         "data": {
          "bar": [
           {
            "error_x": {
             "color": "#2a3f5f"
            },
            "error_y": {
             "color": "#2a3f5f"
            },
            "marker": {
             "line": {
              "color": "#E5ECF6",
              "width": 0.5
             },
             "pattern": {
              "fillmode": "overlay",
              "size": 10,
              "solidity": 0.2
             }
            },
            "type": "bar"
           }
          ],
          "barpolar": [
           {
            "marker": {
             "line": {
              "color": "#E5ECF6",
              "width": 0.5
             },
             "pattern": {
              "fillmode": "overlay",
              "size": 10,
              "solidity": 0.2
             }
            },
            "type": "barpolar"
           }
          ],
          "carpet": [
           {
            "aaxis": {
             "endlinecolor": "#2a3f5f",
             "gridcolor": "white",
             "linecolor": "white",
             "minorgridcolor": "white",
             "startlinecolor": "#2a3f5f"
            },
            "baxis": {
             "endlinecolor": "#2a3f5f",
             "gridcolor": "white",
             "linecolor": "white",
             "minorgridcolor": "white",
             "startlinecolor": "#2a3f5f"
            },
            "type": "carpet"
           }
          ],
          "choropleth": [
           {
            "colorbar": {
             "outlinewidth": 0,
             "ticks": ""
            },
            "type": "choropleth"
           }
          ],
          "contour": [
           {
            "colorbar": {
             "outlinewidth": 0,
             "ticks": ""
            },
            "colorscale": [
             [
              0,
              "#0d0887"
             ],
             [
              0.1111111111111111,
              "#46039f"
             ],
             [
              0.2222222222222222,
              "#7201a8"
             ],
             [
              0.3333333333333333,
              "#9c179e"
             ],
             [
              0.4444444444444444,
              "#bd3786"
             ],
             [
              0.5555555555555556,
              "#d8576b"
             ],
             [
              0.6666666666666666,
              "#ed7953"
             ],
             [
              0.7777777777777778,
              "#fb9f3a"
             ],
             [
              0.8888888888888888,
              "#fdca26"
             ],
             [
              1,
              "#f0f921"
             ]
            ],
            "type": "contour"
           }
          ],
          "contourcarpet": [
           {
            "colorbar": {
             "outlinewidth": 0,
             "ticks": ""
            },
            "type": "contourcarpet"
           }
          ],
          "heatmap": [
           {
            "colorbar": {
             "outlinewidth": 0,
             "ticks": ""
            },
            "colorscale": [
             [
              0,
              "#0d0887"
             ],
             [
              0.1111111111111111,
              "#46039f"
             ],
             [
              0.2222222222222222,
              "#7201a8"
             ],
             [
              0.3333333333333333,
              "#9c179e"
             ],
             [
              0.4444444444444444,
              "#bd3786"
             ],
             [
              0.5555555555555556,
              "#d8576b"
             ],
             [
              0.6666666666666666,
              "#ed7953"
             ],
             [
              0.7777777777777778,
              "#fb9f3a"
             ],
             [
              0.8888888888888888,
              "#fdca26"
             ],
             [
              1,
              "#f0f921"
             ]
            ],
            "type": "heatmap"
           }
          ],
          "heatmapgl": [
           {
            "colorbar": {
             "outlinewidth": 0,
             "ticks": ""
            },
            "colorscale": [
             [
              0,
              "#0d0887"
             ],
             [
              0.1111111111111111,
              "#46039f"
             ],
             [
              0.2222222222222222,
              "#7201a8"
             ],
             [
              0.3333333333333333,
              "#9c179e"
             ],
             [
              0.4444444444444444,
              "#bd3786"
             ],
             [
              0.5555555555555556,
              "#d8576b"
             ],
             [
              0.6666666666666666,
              "#ed7953"
             ],
             [
              0.7777777777777778,
              "#fb9f3a"
             ],
             [
              0.8888888888888888,
              "#fdca26"
             ],
             [
              1,
              "#f0f921"
             ]
            ],
            "type": "heatmapgl"
           }
          ],
          "histogram": [
           {
            "marker": {
             "pattern": {
              "fillmode": "overlay",
              "size": 10,
              "solidity": 0.2
             }
            },
            "type": "histogram"
           }
          ],
          "histogram2d": [
           {
            "colorbar": {
             "outlinewidth": 0,
             "ticks": ""
            },
            "colorscale": [
             [
              0,
              "#0d0887"
             ],
             [
              0.1111111111111111,
              "#46039f"
             ],
             [
              0.2222222222222222,
              "#7201a8"
             ],
             [
              0.3333333333333333,
              "#9c179e"
             ],
             [
              0.4444444444444444,
              "#bd3786"
             ],
             [
              0.5555555555555556,
              "#d8576b"
             ],
             [
              0.6666666666666666,
              "#ed7953"
             ],
             [
              0.7777777777777778,
              "#fb9f3a"
             ],
             [
              0.8888888888888888,
              "#fdca26"
             ],
             [
              1,
              "#f0f921"
             ]
            ],
            "type": "histogram2d"
           }
          ],
          "histogram2dcontour": [
           {
            "colorbar": {
             "outlinewidth": 0,
             "ticks": ""
            },
            "colorscale": [
             [
              0,
              "#0d0887"
             ],
             [
              0.1111111111111111,
              "#46039f"
             ],
             [
              0.2222222222222222,
              "#7201a8"
             ],
             [
              0.3333333333333333,
              "#9c179e"
             ],
             [
              0.4444444444444444,
              "#bd3786"
             ],
             [
              0.5555555555555556,
              "#d8576b"
             ],
             [
              0.6666666666666666,
              "#ed7953"
             ],
             [
              0.7777777777777778,
              "#fb9f3a"
             ],
             [
              0.8888888888888888,
              "#fdca26"
             ],
             [
              1,
              "#f0f921"
             ]
            ],
            "type": "histogram2dcontour"
           }
          ],
          "mesh3d": [
           {
            "colorbar": {
             "outlinewidth": 0,
             "ticks": ""
            },
            "type": "mesh3d"
           }
          ],
          "parcoords": [
           {
            "line": {
             "colorbar": {
              "outlinewidth": 0,
              "ticks": ""
             }
            },
            "type": "parcoords"
           }
          ],
          "pie": [
           {
            "automargin": true,
            "type": "pie"
           }
          ],
          "scatter": [
           {
            "fillpattern": {
             "fillmode": "overlay",
             "size": 10,
             "solidity": 0.2
            },
            "type": "scatter"
           }
          ],
          "scatter3d": [
           {
            "line": {
             "colorbar": {
              "outlinewidth": 0,
              "ticks": ""
             }
            },
            "marker": {
             "colorbar": {
              "outlinewidth": 0,
              "ticks": ""
             }
            },
            "type": "scatter3d"
           }
          ],
          "scattercarpet": [
           {
            "marker": {
             "colorbar": {
              "outlinewidth": 0,
              "ticks": ""
             }
            },
            "type": "scattercarpet"
           }
          ],
          "scattergeo": [
           {
            "marker": {
             "colorbar": {
              "outlinewidth": 0,
              "ticks": ""
             }
            },
            "type": "scattergeo"
           }
          ],
          "scattergl": [
           {
            "marker": {
             "colorbar": {
              "outlinewidth": 0,
              "ticks": ""
             }
            },
            "type": "scattergl"
           }
          ],
          "scattermapbox": [
           {
            "marker": {
             "colorbar": {
              "outlinewidth": 0,
              "ticks": ""
             }
            },
            "type": "scattermapbox"
           }
          ],
          "scatterpolar": [
           {
            "marker": {
             "colorbar": {
              "outlinewidth": 0,
              "ticks": ""
             }
            },
            "type": "scatterpolar"
           }
          ],
          "scatterpolargl": [
           {
            "marker": {
             "colorbar": {
              "outlinewidth": 0,
              "ticks": ""
             }
            },
            "type": "scatterpolargl"
           }
          ],
          "scatterternary": [
           {
            "marker": {
             "colorbar": {
              "outlinewidth": 0,
              "ticks": ""
             }
            },
            "type": "scatterternary"
           }
          ],
          "surface": [
           {
            "colorbar": {
             "outlinewidth": 0,
             "ticks": ""
            },
            "colorscale": [
             [
              0,
              "#0d0887"
             ],
             [
              0.1111111111111111,
              "#46039f"
             ],
             [
              0.2222222222222222,
              "#7201a8"
             ],
             [
              0.3333333333333333,
              "#9c179e"
             ],
             [
              0.4444444444444444,
              "#bd3786"
             ],
             [
              0.5555555555555556,
              "#d8576b"
             ],
             [
              0.6666666666666666,
              "#ed7953"
             ],
             [
              0.7777777777777778,
              "#fb9f3a"
             ],
             [
              0.8888888888888888,
              "#fdca26"
             ],
             [
              1,
              "#f0f921"
             ]
            ],
            "type": "surface"
           }
          ],
          "table": [
           {
            "cells": {
             "fill": {
              "color": "#EBF0F8"
             },
             "line": {
              "color": "white"
             }
            },
            "header": {
             "fill": {
              "color": "#C8D4E3"
             },
             "line": {
              "color": "white"
             }
            },
            "type": "table"
           }
          ]
         },
         "layout": {
          "annotationdefaults": {
           "arrowcolor": "#2a3f5f",
           "arrowhead": 0,
           "arrowwidth": 1
          },
          "autotypenumbers": "strict",
          "coloraxis": {
           "colorbar": {
            "outlinewidth": 0,
            "ticks": ""
           }
          },
          "colorscale": {
           "diverging": [
            [
             0,
             "#8e0152"
            ],
            [
             0.1,
             "#c51b7d"
            ],
            [
             0.2,
             "#de77ae"
            ],
            [
             0.3,
             "#f1b6da"
            ],
            [
             0.4,
             "#fde0ef"
            ],
            [
             0.5,
             "#f7f7f7"
            ],
            [
             0.6,
             "#e6f5d0"
            ],
            [
             0.7,
             "#b8e186"
            ],
            [
             0.8,
             "#7fbc41"
            ],
            [
             0.9,
             "#4d9221"
            ],
            [
             1,
             "#276419"
            ]
           ],
           "sequential": [
            [
             0,
             "#0d0887"
            ],
            [
             0.1111111111111111,
             "#46039f"
            ],
            [
             0.2222222222222222,
             "#7201a8"
            ],
            [
             0.3333333333333333,
             "#9c179e"
            ],
            [
             0.4444444444444444,
             "#bd3786"
            ],
            [
             0.5555555555555556,
             "#d8576b"
            ],
            [
             0.6666666666666666,
             "#ed7953"
            ],
            [
             0.7777777777777778,
             "#fb9f3a"
            ],
            [
             0.8888888888888888,
             "#fdca26"
            ],
            [
             1,
             "#f0f921"
            ]
           ],
           "sequentialminus": [
            [
             0,
             "#0d0887"
            ],
            [
             0.1111111111111111,
             "#46039f"
            ],
            [
             0.2222222222222222,
             "#7201a8"
            ],
            [
             0.3333333333333333,
             "#9c179e"
            ],
            [
             0.4444444444444444,
             "#bd3786"
            ],
            [
             0.5555555555555556,
             "#d8576b"
            ],
            [
             0.6666666666666666,
             "#ed7953"
            ],
            [
             0.7777777777777778,
             "#fb9f3a"
            ],
            [
             0.8888888888888888,
             "#fdca26"
            ],
            [
             1,
             "#f0f921"
            ]
           ]
          },
          "colorway": [
           "#636efa",
           "#EF553B",
           "#00cc96",
           "#ab63fa",
           "#FFA15A",
           "#19d3f3",
           "#FF6692",
           "#B6E880",
           "#FF97FF",
           "#FECB52"
          ],
          "font": {
           "color": "#2a3f5f"
          },
          "geo": {
           "bgcolor": "white",
           "lakecolor": "white",
           "landcolor": "#E5ECF6",
           "showlakes": true,
           "showland": true,
           "subunitcolor": "white"
          },
          "hoverlabel": {
           "align": "left"
          },
          "hovermode": "closest",
          "mapbox": {
           "style": "light"
          },
          "paper_bgcolor": "white",
          "plot_bgcolor": "#E5ECF6",
          "polar": {
           "angularaxis": {
            "gridcolor": "white",
            "linecolor": "white",
            "ticks": ""
           },
           "bgcolor": "#E5ECF6",
           "radialaxis": {
            "gridcolor": "white",
            "linecolor": "white",
            "ticks": ""
           }
          },
          "scene": {
           "xaxis": {
            "backgroundcolor": "#E5ECF6",
            "gridcolor": "white",
            "gridwidth": 2,
            "linecolor": "white",
            "showbackground": true,
            "ticks": "",
            "zerolinecolor": "white"
           },
           "yaxis": {
            "backgroundcolor": "#E5ECF6",
            "gridcolor": "white",
            "gridwidth": 2,
            "linecolor": "white",
            "showbackground": true,
            "ticks": "",
            "zerolinecolor": "white"
           },
           "zaxis": {
            "backgroundcolor": "#E5ECF6",
            "gridcolor": "white",
            "gridwidth": 2,
            "linecolor": "white",
            "showbackground": true,
            "ticks": "",
            "zerolinecolor": "white"
           }
          },
          "shapedefaults": {
           "line": {
            "color": "#2a3f5f"
           }
          },
          "ternary": {
           "aaxis": {
            "gridcolor": "white",
            "linecolor": "white",
            "ticks": ""
           },
           "baxis": {
            "gridcolor": "white",
            "linecolor": "white",
            "ticks": ""
           },
           "bgcolor": "#E5ECF6",
           "caxis": {
            "gridcolor": "white",
            "linecolor": "white",
            "ticks": ""
           }
          },
          "title": {
           "x": 0.05
          },
          "xaxis": {
           "automargin": true,
           "gridcolor": "white",
           "linecolor": "white",
           "ticks": "",
           "title": {
            "standoff": 15
           },
           "zerolinecolor": "white",
           "zerolinewidth": 2
          },
          "yaxis": {
           "automargin": true,
           "gridcolor": "white",
           "linecolor": "white",
           "ticks": "",
           "title": {
            "standoff": 15
           },
           "zerolinecolor": "white",
           "zerolinewidth": 2
          }
         }
        },
        "title": {
         "text": "Heat Wave Risks in Los Angeles"
        },
        "xaxis": {
         "anchor": "y",
         "autorange": true,
         "domain": [
          0,
          1
         ],
         "range": [
          -0.5,
          3.5
         ],
         "title": {
          "text": "Heat Wave - Hazard Type Risk Index Rating"
         },
         "type": "category"
        },
        "yaxis": {
         "anchor": "x",
         "autorange": true,
         "domain": [
          0,
          1
         ],
         "range": [
          0,
          2505.2631578947367
         ],
         "title": {
          "text": "Number of Heat Wave Types"
         },
         "type": "linear"
        }
       }
      },
      "image/png": "[encoded data removed]",
      "text/html": [
       "<div>                            <div id=\"2628fe70-cfae-45bf-8043-e43e7a519882\" class=\"plotly-graph-div\" style=\"height:525px; width:100%;\"></div>            <script type=\"text/javascript\">                require([\"plotly\"], function(Plotly) {                    window.PLOTLYENV=window.PLOTLYENV || {};                                    if (document.getElementById(\"2628fe70-cfae-45bf-8043-e43e7a519882\")) {                    Plotly.newPlot(                        \"2628fe70-cfae-45bf-8043-e43e7a519882\",                        [{\"alignmentgroup\":\"True\",\"hovertemplate\":\"Heat Wave - Hazard Type Risk Index Rating=%{x}\\u003cbr\\u003eNumber of Heat Wave Types=%{y}\\u003cextra\\u003e\\u003c\\u002fextra\\u003e\",\"legendgroup\":\"\",\"marker\":{\"color\":\"#636efa\",\"pattern\":{\"shape\":\"\"},\"line\":{\"width\":0}},\"name\":\"\",\"offsetgroup\":\"\",\"orientation\":\"v\",\"showlegend\":false,\"textposition\":\"auto\",\"x\":[\"No Rating\",\"Very Low\",\"Relatively Low\",\"Relatively Moderate\"],\"xaxis\":\"x\",\"y\":[1,76,2380,38],\"yaxis\":\"y\",\"type\":\"bar\"}],                        {\"template\":{\"data\":{\"histogram2dcontour\":[{\"type\":\"histogram2dcontour\",\"colorbar\":{\"outlinewidth\":0,\"ticks\":\"\"},\"colorscale\":[[0.0,\"#0d0887\"],[0.1111111111111111,\"#46039f\"],[0.2222222222222222,\"#7201a8\"],[0.3333333333333333,\"#9c179e\"],[0.4444444444444444,\"#bd3786\"],[0.5555555555555556,\"#d8576b\"],[0.6666666666666666,\"#ed7953\"],[0.7777777777777778,\"#fb9f3a\"],[0.8888888888888888,\"#fdca26\"],[1.0,\"#f0f921\"]]}],\"choropleth\":[{\"type\":\"choropleth\",\"colorbar\":{\"outlinewidth\":0,\"ticks\":\"\"}}],\"histogram2d\":[{\"type\":\"histogram2d\",\"colorbar\":{\"outlinewidth\":0,\"ticks\":\"\"},\"colorscale\":[[0.0,\"#0d0887\"],[0.1111111111111111,\"#46039f\"],[0.2222222222222222,\"#7201a8\"],[0.3333333333333333,\"#9c179e\"],[0.4444444444444444,\"#bd3786\"],[0.5555555555555556,\"#d8576b\"],[0.6666666666666666,\"#ed7953\"],[0.7777777777777778,\"#fb9f3a\"],[0.8888888888888888,\"#fdca26\"],[1.0,\"#f0f921\"]]}],\"heatmap\":[{\"type\":\"heatmap\",\"colorbar\":{\"outlinewidth\":0,\"ticks\":\"\"},\"colorscale\":[[0.0,\"#0d0887\"],[0.1111111111111111,\"#46039f\"],[0.2222222222222222,\"#7201a8\"],[0.3333333333333333,\"#9c179e\"],[0.4444444444444444,\"#bd3786\"],[0.5555555555555556,\"#d8576b\"],[0.6666666666666666,\"#ed7953\"],[0.7777777777777778,\"#fb9f3a\"],[0.8888888888888888,\"#fdca26\"],[1.0,\"#f0f921\"]]}],\"heatmapgl\":[{\"type\":\"heatmapgl\",\"colorbar\":{\"outlinewidth\":0,\"ticks\":\"\"},\"colorscale\":[[0.0,\"#0d0887\"],[0.1111111111111111,\"#46039f\"],[0.2222222222222222,\"#7201a8\"],[0.3333333333333333,\"#9c179e\"],[0.4444444444444444,\"#bd3786\"],[0.5555555555555556,\"#d8576b\"],[0.6666666666666666,\"#ed7953\"],[0.7777777777777778,\"#fb9f3a\"],[0.8888888888888888,\"#fdca26\"],[1.0,\"#f0f921\"]]}],\"contourcarpet\":[{\"type\":\"contourcarpet\",\"colorbar\":{\"outlinewidth\":0,\"ticks\":\"\"}}],\"contour\":[{\"type\":\"contour\",\"colorbar\":{\"outlinewidth\":0,\"ticks\":\"\"},\"colorscale\":[[0.0,\"#0d0887\"],[0.1111111111111111,\"#46039f\"],[0.2222222222222222,\"#7201a8\"],[0.3333333333333333,\"#9c179e\"],[0.4444444444444444,\"#bd3786\"],[0.5555555555555556,\"#d8576b\"],[0.6666666666666666,\"#ed7953\"],[0.7777777777777778,\"#fb9f3a\"],[0.8888888888888888,\"#fdca26\"],[1.0,\"#f0f921\"]]}],\"surface\":[{\"type\":\"surface\",\"colorbar\":{\"outlinewidth\":0,\"ticks\":\"\"},\"colorscale\":[[0.0,\"#0d0887\"],[0.1111111111111111,\"#46039f\"],[0.2222222222222222,\"#7201a8\"],[0.3333333333333333,\"#9c179e\"],[0.4444444444444444,\"#bd3786\"],[0.5555555555555556,\"#d8576b\"],[0.6666666666666666,\"#ed7953\"],[0.7777777777777778,\"#fb9f3a\"],[0.8888888888888888,\"#fdca26\"],[1.0,\"#f0f921\"]]}],\"mesh3d\":[{\"type\":\"mesh3d\",\"colorbar\":{\"outlinewidth\":0,\"ticks\":\"\"}}],\"scatter\":[{\"fillpattern\":{\"fillmode\":\"overlay\",\"size\":10,\"solidity\":0.2},\"type\":\"scatter\"}],\"parcoords\":[{\"type\":\"parcoords\",\"line\":{\"colorbar\":{\"outlinewidth\":0,\"ticks\":\"\"}}}],\"scatterpolargl\":[{\"type\":\"scatterpolargl\",\"marker\":{\"colorbar\":{\"outlinewidth\":0,\"ticks\":\"\"}}}],\"bar\":[{\"error_x\":{\"color\":\"#2a3f5f\"},\"error_y\":{\"color\":\"#2a3f5f\"},\"marker\":{\"line\":{\"color\":\"#E5ECF6\",\"width\":0.5},\"pattern\":{\"fillmode\":\"overlay\",\"size\":10,\"solidity\":0.2}},\"type\":\"bar\"}],\"scattergeo\":[{\"type\":\"scattergeo\",\"marker\":{\"colorbar\":{\"outlinewidth\":0,\"ticks\":\"\"}}}],\"scatterpolar\":[{\"type\":\"scatterpolar\",\"marker\":{\"colorbar\":{\"outlinewidth\":0,\"ticks\":\"\"}}}],\"histogram\":[{\"marker\":{\"pattern\":{\"fillmode\":\"overlay\",\"size\":10,\"solidity\":0.2}},\"type\":\"histogram\"}],\"scattergl\":[{\"type\":\"scattergl\",\"marker\":{\"colorbar\":{\"outlinewidth\":0,\"ticks\":\"\"}}}],\"scatter3d\":[{\"type\":\"scatter3d\",\"line\":{\"colorbar\":{\"outlinewidth\":0,\"ticks\":\"\"}},\"marker\":{\"colorbar\":{\"outlinewidth\":0,\"ticks\":\"\"}}}],\"scattermapbox\":[{\"type\":\"scattermapbox\",\"marker\":{\"colorbar\":{\"outlinewidth\":0,\"ticks\":\"\"}}}],\"scatterternary\":[{\"type\":\"scatterternary\",\"marker\":{\"colorbar\":{\"outlinewidth\":0,\"ticks\":\"\"}}}],\"scattercarpet\":[{\"type\":\"scattercarpet\",\"marker\":{\"colorbar\":{\"outlinewidth\":0,\"ticks\":\"\"}}}],\"carpet\":[{\"aaxis\":{\"endlinecolor\":\"#2a3f5f\",\"gridcolor\":\"white\",\"linecolor\":\"white\",\"minorgridcolor\":\"white\",\"startlinecolor\":\"#2a3f5f\"},\"baxis\":{\"endlinecolor\":\"#2a3f5f\",\"gridcolor\":\"white\",\"linecolor\":\"white\",\"minorgridcolor\":\"white\",\"startlinecolor\":\"#2a3f5f\"},\"type\":\"carpet\"}],\"table\":[{\"cells\":{\"fill\":{\"color\":\"#EBF0F8\"},\"line\":{\"color\":\"white\"}},\"header\":{\"fill\":{\"color\":\"#C8D4E3\"},\"line\":{\"color\":\"white\"}},\"type\":\"table\"}],\"barpolar\":[{\"marker\":{\"line\":{\"color\":\"#E5ECF6\",\"width\":0.5},\"pattern\":{\"fillmode\":\"overlay\",\"size\":10,\"solidity\":0.2}},\"type\":\"barpolar\"}],\"pie\":[{\"automargin\":true,\"type\":\"pie\"}]},\"layout\":{\"autotypenumbers\":\"strict\",\"colorway\":[\"#636efa\",\"#EF553B\",\"#00cc96\",\"#ab63fa\",\"#FFA15A\",\"#19d3f3\",\"#FF6692\",\"#B6E880\",\"#FF97FF\",\"#FECB52\"],\"font\":{\"color\":\"#2a3f5f\"},\"hovermode\":\"closest\",\"hoverlabel\":{\"align\":\"left\"},\"paper_bgcolor\":\"white\",\"plot_bgcolor\":\"#E5ECF6\",\"polar\":{\"bgcolor\":\"#E5ECF6\",\"angularaxis\":{\"gridcolor\":\"white\",\"linecolor\":\"white\",\"ticks\":\"\"},\"radialaxis\":{\"gridcolor\":\"white\",\"linecolor\":\"white\",\"ticks\":\"\"}},\"ternary\":{\"bgcolor\":\"#E5ECF6\",\"aaxis\":{\"gridcolor\":\"white\",\"linecolor\":\"white\",\"ticks\":\"\"},\"baxis\":{\"gridcolor\":\"white\",\"linecolor\":\"white\",\"ticks\":\"\"},\"caxis\":{\"gridcolor\":\"white\",\"linecolor\":\"white\",\"ticks\":\"\"}},\"coloraxis\":{\"colorbar\":{\"outlinewidth\":0,\"ticks\":\"\"}},\"colorscale\":{\"sequential\":[[0.0,\"#0d0887\"],[0.1111111111111111,\"#46039f\"],[0.2222222222222222,\"#7201a8\"],[0.3333333333333333,\"#9c179e\"],[0.4444444444444444,\"#bd3786\"],[0.5555555555555556,\"#d8576b\"],[0.6666666666666666,\"#ed7953\"],[0.7777777777777778,\"#fb9f3a\"],[0.8888888888888888,\"#fdca26\"],[1.0,\"#f0f921\"]],\"sequentialminus\":[[0.0,\"#0d0887\"],[0.1111111111111111,\"#46039f\"],[0.2222222222222222,\"#7201a8\"],[0.3333333333333333,\"#9c179e\"],[0.4444444444444444,\"#bd3786\"],[0.5555555555555556,\"#d8576b\"],[0.6666666666666666,\"#ed7953\"],[0.7777777777777778,\"#fb9f3a\"],[0.8888888888888888,\"#fdca26\"],[1.0,\"#f0f921\"]],\"diverging\":[[0,\"#8e0152\"],[0.1,\"#c51b7d\"],[0.2,\"#de77ae\"],[0.3,\"#f1b6da\"],[0.4,\"#fde0ef\"],[0.5,\"#f7f7f7\"],[0.6,\"#e6f5d0\"],[0.7,\"#b8e186\"],[0.8,\"#7fbc41\"],[0.9,\"#4d9221\"],[1,\"#276419\"]]},\"xaxis\":{\"gridcolor\":\"white\",\"linecolor\":\"white\",\"ticks\":\"\",\"title\":{\"standoff\":15},\"zerolinecolor\":\"white\",\"automargin\":true,\"zerolinewidth\":2},\"yaxis\":{\"gridcolor\":\"white\",\"linecolor\":\"white\",\"ticks\":\"\",\"title\":{\"standoff\":15},\"zerolinecolor\":\"white\",\"automargin\":true,\"zerolinewidth\":2},\"scene\":{\"xaxis\":{\"backgroundcolor\":\"#E5ECF6\",\"gridcolor\":\"white\",\"linecolor\":\"white\",\"showbackground\":true,\"ticks\":\"\",\"zerolinecolor\":\"white\",\"gridwidth\":2},\"yaxis\":{\"backgroundcolor\":\"#E5ECF6\",\"gridcolor\":\"white\",\"linecolor\":\"white\",\"showbackground\":true,\"ticks\":\"\",\"zerolinecolor\":\"white\",\"gridwidth\":2},\"zaxis\":{\"backgroundcolor\":\"#E5ECF6\",\"gridcolor\":\"white\",\"linecolor\":\"white\",\"showbackground\":true,\"ticks\":\"\",\"zerolinecolor\":\"white\",\"gridwidth\":2}},\"shapedefaults\":{\"line\":{\"color\":\"#2a3f5f\"}},\"annotationdefaults\":{\"arrowcolor\":\"#2a3f5f\",\"arrowhead\":0,\"arrowwidth\":1},\"geo\":{\"bgcolor\":\"white\",\"landcolor\":\"#E5ECF6\",\"subunitcolor\":\"white\",\"showland\":true,\"showlakes\":true,\"lakecolor\":\"white\"},\"title\":{\"x\":0.05},\"mapbox\":{\"style\":\"light\"}}},\"xaxis\":{\"anchor\":\"y\",\"domain\":[0.0,1.0],\"title\":{\"text\":\"Heat Wave - Hazard Type Risk Index Rating\"}},\"yaxis\":{\"anchor\":\"x\",\"domain\":[0.0,1.0],\"title\":{\"text\":\"Number of Heat Wave Types\"}},\"legend\":{\"tracegroupgap\":0},\"title\":{\"text\":\"Heat Wave Risks in Los Angeles\"},\"barmode\":\"relative\"},                        {\"responsive\": true}                    ).then(function(){\n",
       "                            \n",
       "var gd = document.getElementById('2628fe70-cfae-45bf-8043-e43e7a519882');\n",
       "var x = new MutationObserver(function (mutations, observer) {{\n",
       "        var display = window.getComputedStyle(gd).display;\n",
       "        if (!display || display === 'none') {{\n",
       "            console.log([gd, 'removed!']);\n",
       "            Plotly.purge(gd);\n",
       "            observer.disconnect();\n",
       "        }}\n",
       "}});\n",
       "\n",
       "// Listen for the removal of the full notebook cells\n",
       "var notebookContainer = gd.closest('#notebook-container');\n",
       "if (notebookContainer) {{\n",
       "    x.observe(notebookContainer, {childList: true});\n",
       "}}\n",
       "\n",
       "// Listen for the clearing of the current output cell\n",
       "var outputEl = gd.closest('.output');\n",
       "if (outputEl) {{\n",
       "    x.observe(outputEl, {childList: true});\n",
       "}}\n",
       "\n",
       "                        })                };                });            </script>        </div>"
      ]
     },
     "metadata": {},
     "output_type": "display_data"
    }
   ],
   "source": [
    "# a simple bar chart, putting heat wave type on the x-axis\n",
    "fig = px.bar(risk_counts,\n",
    "       x='HWAV_RISKR',\n",
    "       y='Count',\n",
    "       title='Heat Wave Risks in Los Angeles',\n",
    "          labels={\n",
    "            'HWAV_RISKR':'Heat Wave - Hazard Type Risk Index Rating',\n",
    "            'Count':'Number of Heat Wave Types'})\n",
    "\n",
    "# get rid of white lines inside the bars\n",
    "fig.update_traces(marker_line_width=0)\n",
    "\n",
    "# show the figure\n",
    "fig.show()"
   ]
  },
  {
   "cell_type": "code",
   "execution_count": 240,
   "id": "af963121-130f-4408-aa7b-4b9f4f1268bf",
   "metadata": {},
   "outputs": [
    {
     "data": {
      "text/html": [
       "<div>\n",
       "<style scoped>\n",
       "    .dataframe tbody tr th:only-of-type {\n",
       "        vertical-align: middle;\n",
       "    }\n",
       "\n",
       "    .dataframe tbody tr th {\n",
       "        vertical-align: top;\n",
       "    }\n",
       "\n",
       "    .dataframe thead th {\n",
       "        text-align: right;\n",
       "    }\n",
       "</style>\n",
       "<table border=\"1\" class=\"dataframe\">\n",
       "  <thead>\n",
       "    <tr style=\"text-align: right;\">\n",
       "      <th></th>\n",
       "      <th>COUNTY</th>\n",
       "      <th>HWAV_RISKR</th>\n",
       "      <th>HWAV_RISKS</th>\n",
       "      <th>HWAV_RISKV</th>\n",
       "      <th>STATE</th>\n",
       "      <th>TRACT</th>\n",
       "      <th>TRACTFIPS</th>\n",
       "      <th>geometry</th>\n",
       "    </tr>\n",
       "  </thead>\n",
       "  <tbody>\n",
       "    <tr>\n",
       "      <th>2345</th>\n",
       "      <td>Los Angeles</td>\n",
       "      <td>Relatively Moderate</td>\n",
       "      <td>66.121629</td>\n",
       "      <td>20601.516570</td>\n",
       "      <td>California</td>\n",
       "      <td>901209</td>\n",
       "      <td>06037901209</td>\n",
       "      <td>POLYGON ((-13233850.945 4139156.214, -13233817...</td>\n",
       "    </tr>\n",
       "    <tr>\n",
       "      <th>2399</th>\n",
       "      <td>Los Angeles</td>\n",
       "      <td>Relatively Moderate</td>\n",
       "      <td>63.057128</td>\n",
       "      <td>17796.676091</td>\n",
       "      <td>California</td>\n",
       "      <td>911100</td>\n",
       "      <td>06037911100</td>\n",
       "      <td>POLYGON ((-13122422.32 4111916.398, -13122370....</td>\n",
       "    </tr>\n",
       "    <tr>\n",
       "      <th>1207</th>\n",
       "      <td>Los Angeles</td>\n",
       "      <td>Relatively Moderate</td>\n",
       "      <td>55.345336</td>\n",
       "      <td>12248.324039</td>\n",
       "      <td>California</td>\n",
       "      <td>401707</td>\n",
       "      <td>06037401707</td>\n",
       "      <td>POLYGON ((-13106404.321 4043695.904, -13106404...</td>\n",
       "    </tr>\n",
       "    <tr>\n",
       "      <th>2352</th>\n",
       "      <td>Los Angeles</td>\n",
       "      <td>Relatively Moderate</td>\n",
       "      <td>54.860153</td>\n",
       "      <td>11929.875113</td>\n",
       "      <td>California</td>\n",
       "      <td>901300</td>\n",
       "      <td>06037901300</td>\n",
       "      <td>POLYGON ((-13151279.128 4131679.719, -13150281...</td>\n",
       "    </tr>\n",
       "    <tr>\n",
       "      <th>1604</th>\n",
       "      <td>Los Angeles</td>\n",
       "      <td>Relatively Moderate</td>\n",
       "      <td>54.686534</td>\n",
       "      <td>11820.073489</td>\n",
       "      <td>California</td>\n",
       "      <td>502303</td>\n",
       "      <td>06037502303</td>\n",
       "      <td>POLYGON ((-13142843.987 4024810.002, -13142875...</td>\n",
       "    </tr>\n",
       "    <tr>\n",
       "      <th>...</th>\n",
       "      <td>...</td>\n",
       "      <td>...</td>\n",
       "      <td>...</td>\n",
       "      <td>...</td>\n",
       "      <td>...</td>\n",
       "      <td>...</td>\n",
       "      <td>...</td>\n",
       "      <td>...</td>\n",
       "    </tr>\n",
       "    <tr>\n",
       "      <th>1043</th>\n",
       "      <td>Los Angeles</td>\n",
       "      <td>Very Low</td>\n",
       "      <td>15.674499</td>\n",
       "      <td>1.215177</td>\n",
       "      <td>California</td>\n",
       "      <td>277400</td>\n",
       "      <td>06037277400</td>\n",
       "      <td>POLYGON ((-13176897.187 4022450.1, -13176897.1...</td>\n",
       "    </tr>\n",
       "    <tr>\n",
       "      <th>2470</th>\n",
       "      <td>Los Angeles</td>\n",
       "      <td>Very Low</td>\n",
       "      <td>15.638824</td>\n",
       "      <td>0.668636</td>\n",
       "      <td>California</td>\n",
       "      <td>980012</td>\n",
       "      <td>06037980012</td>\n",
       "      <td>POLYGON ((-13152867.196 4019282.462, -13152952...</td>\n",
       "    </tr>\n",
       "    <tr>\n",
       "      <th>2492</th>\n",
       "      <td>Los Angeles</td>\n",
       "      <td>Very Low</td>\n",
       "      <td>15.509204</td>\n",
       "      <td>0.076883</td>\n",
       "      <td>California</td>\n",
       "      <td>980037</td>\n",
       "      <td>06037980037</td>\n",
       "      <td>POLYGON ((-13166372.925 4003033.101, -13166372...</td>\n",
       "    </tr>\n",
       "    <tr>\n",
       "      <th>2478</th>\n",
       "      <td>Los Angeles</td>\n",
       "      <td>Very Low</td>\n",
       "      <td>15.412881</td>\n",
       "      <td>0.005956</td>\n",
       "      <td>California</td>\n",
       "      <td>980020</td>\n",
       "      <td>06037980020</td>\n",
       "      <td>POLYGON ((-13168071.112 4060377.812, -13168028...</td>\n",
       "    </tr>\n",
       "    <tr>\n",
       "      <th>2461</th>\n",
       "      <td>Los Angeles</td>\n",
       "      <td>No Rating</td>\n",
       "      <td>0.000000</td>\n",
       "      <td>0.000000</td>\n",
       "      <td>California</td>\n",
       "      <td>980003</td>\n",
       "      <td>06037980003</td>\n",
       "      <td>POLYGON ((-13110585.384 4139895.655, -13110585...</td>\n",
       "    </tr>\n",
       "  </tbody>\n",
       "</table>\n",
       "<p>2495 rows × 8 columns</p>\n",
       "</div>"
      ],
      "text/plain": [
       "           COUNTY           HWAV_RISKR  HWAV_RISKS    HWAV_RISKV       STATE  \\\n",
       "2345  Los Angeles  Relatively Moderate   66.121629  20601.516570  California   \n",
       "2399  Los Angeles  Relatively Moderate   63.057128  17796.676091  California   \n",
       "1207  Los Angeles  Relatively Moderate   55.345336  12248.324039  California   \n",
       "2352  Los Angeles  Relatively Moderate   54.860153  11929.875113  California   \n",
       "1604  Los Angeles  Relatively Moderate   54.686534  11820.073489  California   \n",
       "...           ...                  ...         ...           ...         ...   \n",
       "1043  Los Angeles             Very Low   15.674499      1.215177  California   \n",
       "2470  Los Angeles             Very Low   15.638824      0.668636  California   \n",
       "2492  Los Angeles             Very Low   15.509204      0.076883  California   \n",
       "2478  Los Angeles             Very Low   15.412881      0.005956  California   \n",
       "2461  Los Angeles            No Rating    0.000000      0.000000  California   \n",
       "\n",
       "       TRACT    TRACTFIPS                                           geometry  \n",
       "2345  901209  06037901209  POLYGON ((-13233850.945 4139156.214, -13233817...  \n",
       "2399  911100  06037911100  POLYGON ((-13122422.32 4111916.398, -13122370....  \n",
       "1207  401707  06037401707  POLYGON ((-13106404.321 4043695.904, -13106404...  \n",
       "2352  901300  06037901300  POLYGON ((-13151279.128 4131679.719, -13150281...  \n",
       "1604  502303  06037502303  POLYGON ((-13142843.987 4024810.002, -13142875...  \n",
       "...      ...          ...                                                ...  \n",
       "1043  277400  06037277400  POLYGON ((-13176897.187 4022450.1, -13176897.1...  \n",
       "2470  980012  06037980012  POLYGON ((-13152867.196 4019282.462, -13152952...  \n",
       "2492  980037  06037980037  POLYGON ((-13166372.925 4003033.101, -13166372...  \n",
       "2478  980020  06037980020  POLYGON ((-13168071.112 4060377.812, -13168028...  \n",
       "2461  980003  06037980003  POLYGON ((-13110585.384 4139895.655, -13110585...  \n",
       "\n",
       "[2495 rows x 8 columns]"
      ]
     },
     "execution_count": 240,
     "metadata": {},
     "output_type": "execute_result"
    }
   ],
   "source": [
    "# Sort Data for bar chart of the top 10 census tracts with the highest vulnerability to extreme heat\n",
    "sorted_df = la_county_gdf.sort_values('HWAV_RISKV', ascending=False)\n",
    "sorted_df"
   ]
  },
  {
   "cell_type": "code",
   "execution_count": 248,
   "id": "c73cc335-ac49-4fcf-8e75-c88300dca32b",
   "metadata": {},
   "outputs": [
    {
     "data": {
      "text/html": [
       "<div>\n",
       "<style scoped>\n",
       "    .dataframe tbody tr th:only-of-type {\n",
       "        vertical-align: middle;\n",
       "    }\n",
       "\n",
       "    .dataframe tbody tr th {\n",
       "        vertical-align: top;\n",
       "    }\n",
       "\n",
       "    .dataframe thead th {\n",
       "        text-align: right;\n",
       "    }\n",
       "</style>\n",
       "<table border=\"1\" class=\"dataframe\">\n",
       "  <thead>\n",
       "    <tr style=\"text-align: right;\">\n",
       "      <th></th>\n",
       "      <th>COUNTY</th>\n",
       "      <th>HWAV_RISKR</th>\n",
       "      <th>HWAV_RISKS</th>\n",
       "      <th>HWAV_RISKV</th>\n",
       "      <th>STATE</th>\n",
       "      <th>TRACT</th>\n",
       "      <th>TRACTFIPS</th>\n",
       "      <th>geometry</th>\n",
       "    </tr>\n",
       "  </thead>\n",
       "  <tbody>\n",
       "    <tr>\n",
       "      <th>2345</th>\n",
       "      <td>Los Angeles</td>\n",
       "      <td>Relatively Moderate</td>\n",
       "      <td>66.121629</td>\n",
       "      <td>20601.516570</td>\n",
       "      <td>California</td>\n",
       "      <td>901209</td>\n",
       "      <td>06037901209</td>\n",
       "      <td>POLYGON ((-13233850.945 4139156.214, -13233817...</td>\n",
       "    </tr>\n",
       "    <tr>\n",
       "      <th>2399</th>\n",
       "      <td>Los Angeles</td>\n",
       "      <td>Relatively Moderate</td>\n",
       "      <td>63.057128</td>\n",
       "      <td>17796.676091</td>\n",
       "      <td>California</td>\n",
       "      <td>911100</td>\n",
       "      <td>06037911100</td>\n",
       "      <td>POLYGON ((-13122422.32 4111916.398, -13122370....</td>\n",
       "    </tr>\n",
       "    <tr>\n",
       "      <th>1207</th>\n",
       "      <td>Los Angeles</td>\n",
       "      <td>Relatively Moderate</td>\n",
       "      <td>55.345336</td>\n",
       "      <td>12248.324039</td>\n",
       "      <td>California</td>\n",
       "      <td>401707</td>\n",
       "      <td>06037401707</td>\n",
       "      <td>POLYGON ((-13106404.321 4043695.904, -13106404...</td>\n",
       "    </tr>\n",
       "    <tr>\n",
       "      <th>2352</th>\n",
       "      <td>Los Angeles</td>\n",
       "      <td>Relatively Moderate</td>\n",
       "      <td>54.860153</td>\n",
       "      <td>11929.875113</td>\n",
       "      <td>California</td>\n",
       "      <td>901300</td>\n",
       "      <td>06037901300</td>\n",
       "      <td>POLYGON ((-13151279.128 4131679.719, -13150281...</td>\n",
       "    </tr>\n",
       "    <tr>\n",
       "      <th>1604</th>\n",
       "      <td>Los Angeles</td>\n",
       "      <td>Relatively Moderate</td>\n",
       "      <td>54.686534</td>\n",
       "      <td>11820.073489</td>\n",
       "      <td>California</td>\n",
       "      <td>502303</td>\n",
       "      <td>06037502303</td>\n",
       "      <td>POLYGON ((-13142843.987 4024810.002, -13142875...</td>\n",
       "    </tr>\n",
       "    <tr>\n",
       "      <th>1309</th>\n",
       "      <td>Los Angeles</td>\n",
       "      <td>Relatively Moderate</td>\n",
       "      <td>54.325025</td>\n",
       "      <td>11619.582984</td>\n",
       "      <td>California</td>\n",
       "      <td>406103</td>\n",
       "      <td>06037406103</td>\n",
       "      <td>POLYGON ((-13122491.996 4040372.483, -13122492...</td>\n",
       "    </tr>\n",
       "    <tr>\n",
       "      <th>2411</th>\n",
       "      <td>Los Angeles</td>\n",
       "      <td>Relatively Moderate</td>\n",
       "      <td>52.575750</td>\n",
       "      <td>10588.802380</td>\n",
       "      <td>California</td>\n",
       "      <td>920035</td>\n",
       "      <td>06037920035</td>\n",
       "      <td>POLYGON ((-13187786.138 4086381.174, -13187777...</td>\n",
       "    </tr>\n",
       "    <tr>\n",
       "      <th>2353</th>\n",
       "      <td>Los Angeles</td>\n",
       "      <td>Relatively Moderate</td>\n",
       "      <td>52.531751</td>\n",
       "      <td>10559.880926</td>\n",
       "      <td>California</td>\n",
       "      <td>910002</td>\n",
       "      <td>06037910002</td>\n",
       "      <td>POLYGON ((-13122413.191 4103969.657, -13122262...</td>\n",
       "    </tr>\n",
       "    <tr>\n",
       "      <th>2372</th>\n",
       "      <td>Los Angeles</td>\n",
       "      <td>Relatively Moderate</td>\n",
       "      <td>52.493697</td>\n",
       "      <td>10539.060030</td>\n",
       "      <td>California</td>\n",
       "      <td>910601</td>\n",
       "      <td>06037910601</td>\n",
       "      <td>POLYGON ((-13142197.12 4106985.158, -13142221....</td>\n",
       "    </tr>\n",
       "    <tr>\n",
       "      <th>1176</th>\n",
       "      <td>Los Angeles</td>\n",
       "      <td>Relatively Moderate</td>\n",
       "      <td>52.210674</td>\n",
       "      <td>10383.307189</td>\n",
       "      <td>California</td>\n",
       "      <td>320300</td>\n",
       "      <td>06037320300</td>\n",
       "      <td>POLYGON ((-13184203.984 4066367.771, -13184227...</td>\n",
       "    </tr>\n",
       "  </tbody>\n",
       "</table>\n",
       "</div>"
      ],
      "text/plain": [
       "           COUNTY           HWAV_RISKR  HWAV_RISKS    HWAV_RISKV       STATE  \\\n",
       "2345  Los Angeles  Relatively Moderate   66.121629  20601.516570  California   \n",
       "2399  Los Angeles  Relatively Moderate   63.057128  17796.676091  California   \n",
       "1207  Los Angeles  Relatively Moderate   55.345336  12248.324039  California   \n",
       "2352  Los Angeles  Relatively Moderate   54.860153  11929.875113  California   \n",
       "1604  Los Angeles  Relatively Moderate   54.686534  11820.073489  California   \n",
       "1309  Los Angeles  Relatively Moderate   54.325025  11619.582984  California   \n",
       "2411  Los Angeles  Relatively Moderate   52.575750  10588.802380  California   \n",
       "2353  Los Angeles  Relatively Moderate   52.531751  10559.880926  California   \n",
       "2372  Los Angeles  Relatively Moderate   52.493697  10539.060030  California   \n",
       "1176  Los Angeles  Relatively Moderate   52.210674  10383.307189  California   \n",
       "\n",
       "       TRACT    TRACTFIPS                                           geometry  \n",
       "2345  901209  06037901209  POLYGON ((-13233850.945 4139156.214, -13233817...  \n",
       "2399  911100  06037911100  POLYGON ((-13122422.32 4111916.398, -13122370....  \n",
       "1207  401707  06037401707  POLYGON ((-13106404.321 4043695.904, -13106404...  \n",
       "2352  901300  06037901300  POLYGON ((-13151279.128 4131679.719, -13150281...  \n",
       "1604  502303  06037502303  POLYGON ((-13142843.987 4024810.002, -13142875...  \n",
       "1309  406103  06037406103  POLYGON ((-13122491.996 4040372.483, -13122492...  \n",
       "2411  920035  06037920035  POLYGON ((-13187786.138 4086381.174, -13187777...  \n",
       "2353  910002  06037910002  POLYGON ((-13122413.191 4103969.657, -13122262...  \n",
       "2372  910601  06037910601  POLYGON ((-13142197.12 4106985.158, -13142221....  \n",
       "1176  320300  06037320300  POLYGON ((-13184203.984 4066367.771, -13184227...  "
      ]
     },
     "execution_count": 248,
     "metadata": {},
     "output_type": "execute_result"
    }
   ],
   "source": [
    "# Select the top 10 census tracts\n",
    "top_10_tracts= sorted_df.head(10)\n",
    "top_10_tracts"
   ]
  },
  {
   "cell_type": "code",
   "execution_count": 249,
   "id": "60512c13-75da-4b17-bb0e-2f772d825783",
   "metadata": {
    "scrolled": true
   },
   "outputs": [
    {
     "data": {
      "application/vnd.plotly.v1+json": {
       "config": {
        "plotlyServerURL": "https://plot.ly"
       },
       "data": [
        {
         "alignmentgroup": "True",
         "hovertemplate": "Census Tract=%{x}<br>Heat Wave Risk Value=%{y}<extra></extra>",
         "legendgroup": "",
         "marker": {
          "color": "#636efa",
          "pattern": {
           "shape": ""
          }
         },
         "name": "",
         "offsetgroup": "",
         "orientation": "v",
         "showlegend": false,
         "textposition": "auto",
         "type": "bar",
         "x": [
          "901209",
          "911100",
          "401707",
          "901300",
          "502303",
          "406103",
          "920035",
          "910002",
          "910601",
          "320300"
         ],
         "xaxis": "x",
         "y": [
          20601.5165696,
          17796.6760911,
          12248.3240393,
          11929.8751134,
          11820.0734885,
          11619.5829844,
          10588.8023796,
          10559.8809256,
          10539.0600299,
          10383.3071886
         ],
         "yaxis": "y"
        }
       ],
       "layout": {
        "autosize": true,
        "barmode": "relative",
        "legend": {
         "tracegroupgap": 0
        },
        "template": {
         "data": {
          "bar": [
           {
            "error_x": {
             "color": "#2a3f5f"
            },
            "error_y": {
             "color": "#2a3f5f"
            },
            "marker": {
             "line": {
              "color": "#E5ECF6",
              "width": 0.5
             },
             "pattern": {
              "fillmode": "overlay",
              "size": 10,
              "solidity": 0.2
             }
            },
            "type": "bar"
           }
          ],
          "barpolar": [
           {
            "marker": {
             "line": {
              "color": "#E5ECF6",
              "width": 0.5
             },
             "pattern": {
              "fillmode": "overlay",
              "size": 10,
              "solidity": 0.2
             }
            },
            "type": "barpolar"
           }
          ],
          "carpet": [
           {
            "aaxis": {
             "endlinecolor": "#2a3f5f",
             "gridcolor": "white",
             "linecolor": "white",
             "minorgridcolor": "white",
             "startlinecolor": "#2a3f5f"
            },
            "baxis": {
             "endlinecolor": "#2a3f5f",
             "gridcolor": "white",
             "linecolor": "white",
             "minorgridcolor": "white",
             "startlinecolor": "#2a3f5f"
            },
            "type": "carpet"
           }
          ],
          "choropleth": [
           {
            "colorbar": {
             "outlinewidth": 0,
             "ticks": ""
            },
            "type": "choropleth"
           }
          ],
          "contour": [
           {
            "colorbar": {
             "outlinewidth": 0,
             "ticks": ""
            },
            "colorscale": [
             [
              0,
              "#0d0887"
             ],
             [
              0.1111111111111111,
              "#46039f"
             ],
             [
              0.2222222222222222,
              "#7201a8"
             ],
             [
              0.3333333333333333,
              "#9c179e"
             ],
             [
              0.4444444444444444,
              "#bd3786"
             ],
             [
              0.5555555555555556,
              "#d8576b"
             ],
             [
              0.6666666666666666,
              "#ed7953"
             ],
             [
              0.7777777777777778,
              "#fb9f3a"
             ],
             [
              0.8888888888888888,
              "#fdca26"
             ],
             [
              1,
              "#f0f921"
             ]
            ],
            "type": "contour"
           }
          ],
          "contourcarpet": [
           {
            "colorbar": {
             "outlinewidth": 0,
             "ticks": ""
            },
            "type": "contourcarpet"
           }
          ],
          "heatmap": [
           {
            "colorbar": {
             "outlinewidth": 0,
             "ticks": ""
            },
            "colorscale": [
             [
              0,
              "#0d0887"
             ],
             [
              0.1111111111111111,
              "#46039f"
             ],
             [
              0.2222222222222222,
              "#7201a8"
             ],
             [
              0.3333333333333333,
              "#9c179e"
             ],
             [
              0.4444444444444444,
              "#bd3786"
             ],
             [
              0.5555555555555556,
              "#d8576b"
             ],
             [
              0.6666666666666666,
              "#ed7953"
             ],
             [
              0.7777777777777778,
              "#fb9f3a"
             ],
             [
              0.8888888888888888,
              "#fdca26"
             ],
             [
              1,
              "#f0f921"
             ]
            ],
            "type": "heatmap"
           }
          ],
          "heatmapgl": [
           {
            "colorbar": {
             "outlinewidth": 0,
             "ticks": ""
            },
            "colorscale": [
             [
              0,
              "#0d0887"
             ],
             [
              0.1111111111111111,
              "#46039f"
             ],
             [
              0.2222222222222222,
              "#7201a8"
             ],
             [
              0.3333333333333333,
              "#9c179e"
             ],
             [
              0.4444444444444444,
              "#bd3786"
             ],
             [
              0.5555555555555556,
              "#d8576b"
             ],
             [
              0.6666666666666666,
              "#ed7953"
             ],
             [
              0.7777777777777778,
              "#fb9f3a"
             ],
             [
              0.8888888888888888,
              "#fdca26"
             ],
             [
              1,
              "#f0f921"
             ]
            ],
            "type": "heatmapgl"
           }
          ],
          "histogram": [
           {
            "marker": {
             "pattern": {
              "fillmode": "overlay",
              "size": 10,
              "solidity": 0.2
             }
            },
            "type": "histogram"
           }
          ],
          "histogram2d": [
           {
            "colorbar": {
             "outlinewidth": 0,
             "ticks": ""
            },
            "colorscale": [
             [
              0,
              "#0d0887"
             ],
             [
              0.1111111111111111,
              "#46039f"
             ],
             [
              0.2222222222222222,
              "#7201a8"
             ],
             [
              0.3333333333333333,
              "#9c179e"
             ],
             [
              0.4444444444444444,
              "#bd3786"
             ],
             [
              0.5555555555555556,
              "#d8576b"
             ],
             [
              0.6666666666666666,
              "#ed7953"
             ],
             [
              0.7777777777777778,
              "#fb9f3a"
             ],
             [
              0.8888888888888888,
              "#fdca26"
             ],
             [
              1,
              "#f0f921"
             ]
            ],
            "type": "histogram2d"
           }
          ],
          "histogram2dcontour": [
           {
            "colorbar": {
             "outlinewidth": 0,
             "ticks": ""
            },
            "colorscale": [
             [
              0,
              "#0d0887"
             ],
             [
              0.1111111111111111,
              "#46039f"
             ],
             [
              0.2222222222222222,
              "#7201a8"
             ],
             [
              0.3333333333333333,
              "#9c179e"
             ],
             [
              0.4444444444444444,
              "#bd3786"
             ],
             [
              0.5555555555555556,
              "#d8576b"
             ],
             [
              0.6666666666666666,
              "#ed7953"
             ],
             [
              0.7777777777777778,
              "#fb9f3a"
             ],
             [
              0.8888888888888888,
              "#fdca26"
             ],
             [
              1,
              "#f0f921"
             ]
            ],
            "type": "histogram2dcontour"
           }
          ],
          "mesh3d": [
           {
            "colorbar": {
             "outlinewidth": 0,
             "ticks": ""
            },
            "type": "mesh3d"
           }
          ],
          "parcoords": [
           {
            "line": {
             "colorbar": {
              "outlinewidth": 0,
              "ticks": ""
             }
            },
            "type": "parcoords"
           }
          ],
          "pie": [
           {
            "automargin": true,
            "type": "pie"
           }
          ],
          "scatter": [
           {
            "fillpattern": {
             "fillmode": "overlay",
             "size": 10,
             "solidity": 0.2
            },
            "type": "scatter"
           }
          ],
          "scatter3d": [
           {
            "line": {
             "colorbar": {
              "outlinewidth": 0,
              "ticks": ""
             }
            },
            "marker": {
             "colorbar": {
              "outlinewidth": 0,
              "ticks": ""
             }
            },
            "type": "scatter3d"
           }
          ],
          "scattercarpet": [
           {
            "marker": {
             "colorbar": {
              "outlinewidth": 0,
              "ticks": ""
             }
            },
            "type": "scattercarpet"
           }
          ],
          "scattergeo": [
           {
            "marker": {
             "colorbar": {
              "outlinewidth": 0,
              "ticks": ""
             }
            },
            "type": "scattergeo"
           }
          ],
          "scattergl": [
           {
            "marker": {
             "colorbar": {
              "outlinewidth": 0,
              "ticks": ""
             }
            },
            "type": "scattergl"
           }
          ],
          "scattermapbox": [
           {
            "marker": {
             "colorbar": {
              "outlinewidth": 0,
              "ticks": ""
             }
            },
            "type": "scattermapbox"
           }
          ],
          "scatterpolar": [
           {
            "marker": {
             "colorbar": {
              "outlinewidth": 0,
              "ticks": ""
             }
            },
            "type": "scatterpolar"
           }
          ],
          "scatterpolargl": [
           {
            "marker": {
             "colorbar": {
              "outlinewidth": 0,
              "ticks": ""
             }
            },
            "type": "scatterpolargl"
           }
          ],
          "scatterternary": [
           {
            "marker": {
             "colorbar": {
              "outlinewidth": 0,
              "ticks": ""
             }
            },
            "type": "scatterternary"
           }
          ],
          "surface": [
           {
            "colorbar": {
             "outlinewidth": 0,
             "ticks": ""
            },
            "colorscale": [
             [
              0,
              "#0d0887"
             ],
             [
              0.1111111111111111,
              "#46039f"
             ],
             [
              0.2222222222222222,
              "#7201a8"
             ],
             [
              0.3333333333333333,
              "#9c179e"
             ],
             [
              0.4444444444444444,
              "#bd3786"
             ],
             [
              0.5555555555555556,
              "#d8576b"
             ],
             [
              0.6666666666666666,
              "#ed7953"
             ],
             [
              0.7777777777777778,
              "#fb9f3a"
             ],
             [
              0.8888888888888888,
              "#fdca26"
             ],
             [
              1,
              "#f0f921"
             ]
            ],
            "type": "surface"
           }
          ],
          "table": [
           {
            "cells": {
             "fill": {
              "color": "#EBF0F8"
             },
             "line": {
              "color": "white"
             }
            },
            "header": {
             "fill": {
              "color": "#C8D4E3"
             },
             "line": {
              "color": "white"
             }
            },
            "type": "table"
           }
          ]
         },
         "layout": {
          "annotationdefaults": {
           "arrowcolor": "#2a3f5f",
           "arrowhead": 0,
           "arrowwidth": 1
          },
          "autotypenumbers": "strict",
          "coloraxis": {
           "colorbar": {
            "outlinewidth": 0,
            "ticks": ""
           }
          },
          "colorscale": {
           "diverging": [
            [
             0,
             "#8e0152"
            ],
            [
             0.1,
             "#c51b7d"
            ],
            [
             0.2,
             "#de77ae"
            ],
            [
             0.3,
             "#f1b6da"
            ],
            [
             0.4,
             "#fde0ef"
            ],
            [
             0.5,
             "#f7f7f7"
            ],
            [
             0.6,
             "#e6f5d0"
            ],
            [
             0.7,
             "#b8e186"
            ],
            [
             0.8,
             "#7fbc41"
            ],
            [
             0.9,
             "#4d9221"
            ],
            [
             1,
             "#276419"
            ]
           ],
           "sequential": [
            [
             0,
             "#0d0887"
            ],
            [
             0.1111111111111111,
             "#46039f"
            ],
            [
             0.2222222222222222,
             "#7201a8"
            ],
            [
             0.3333333333333333,
             "#9c179e"
            ],
            [
             0.4444444444444444,
             "#bd3786"
            ],
            [
             0.5555555555555556,
             "#d8576b"
            ],
            [
             0.6666666666666666,
             "#ed7953"
            ],
            [
             0.7777777777777778,
             "#fb9f3a"
            ],
            [
             0.8888888888888888,
             "#fdca26"
            ],
            [
             1,
             "#f0f921"
            ]
           ],
           "sequentialminus": [
            [
             0,
             "#0d0887"
            ],
            [
             0.1111111111111111,
             "#46039f"
            ],
            [
             0.2222222222222222,
             "#7201a8"
            ],
            [
             0.3333333333333333,
             "#9c179e"
            ],
            [
             0.4444444444444444,
             "#bd3786"
            ],
            [
             0.5555555555555556,
             "#d8576b"
            ],
            [
             0.6666666666666666,
             "#ed7953"
            ],
            [
             0.7777777777777778,
             "#fb9f3a"
            ],
            [
             0.8888888888888888,
             "#fdca26"
            ],
            [
             1,
             "#f0f921"
            ]
           ]
          },
          "colorway": [
           "#636efa",
           "#EF553B",
           "#00cc96",
           "#ab63fa",
           "#FFA15A",
           "#19d3f3",
           "#FF6692",
           "#B6E880",
           "#FF97FF",
           "#FECB52"
          ],
          "font": {
           "color": "#2a3f5f"
          },
          "geo": {
           "bgcolor": "white",
           "lakecolor": "white",
           "landcolor": "#E5ECF6",
           "showlakes": true,
           "showland": true,
           "subunitcolor": "white"
          },
          "hoverlabel": {
           "align": "left"
          },
          "hovermode": "closest",
          "mapbox": {
           "style": "light"
          },
          "paper_bgcolor": "white",
          "plot_bgcolor": "#E5ECF6",
          "polar": {
           "angularaxis": {
            "gridcolor": "white",
            "linecolor": "white",
            "ticks": ""
           },
           "bgcolor": "#E5ECF6",
           "radialaxis": {
            "gridcolor": "white",
            "linecolor": "white",
            "ticks": ""
           }
          },
          "scene": {
           "xaxis": {
            "backgroundcolor": "#E5ECF6",
            "gridcolor": "white",
            "gridwidth": 2,
            "linecolor": "white",
            "showbackground": true,
            "ticks": "",
            "zerolinecolor": "white"
           },
           "yaxis": {
            "backgroundcolor": "#E5ECF6",
            "gridcolor": "white",
            "gridwidth": 2,
            "linecolor": "white",
            "showbackground": true,
            "ticks": "",
            "zerolinecolor": "white"
           },
           "zaxis": {
            "backgroundcolor": "#E5ECF6",
            "gridcolor": "white",
            "gridwidth": 2,
            "linecolor": "white",
            "showbackground": true,
            "ticks": "",
            "zerolinecolor": "white"
           }
          },
          "shapedefaults": {
           "line": {
            "color": "#2a3f5f"
           }
          },
          "ternary": {
           "aaxis": {
            "gridcolor": "white",
            "linecolor": "white",
            "ticks": ""
           },
           "baxis": {
            "gridcolor": "white",
            "linecolor": "white",
            "ticks": ""
           },
           "bgcolor": "#E5ECF6",
           "caxis": {
            "gridcolor": "white",
            "linecolor": "white",
            "ticks": ""
           }
          },
          "title": {
           "x": 0.05
          },
          "xaxis": {
           "automargin": true,
           "gridcolor": "white",
           "linecolor": "white",
           "ticks": "",
           "title": {
            "standoff": 15
           },
           "zerolinecolor": "white",
           "zerolinewidth": 2
          },
          "yaxis": {
           "automargin": true,
           "gridcolor": "white",
           "linecolor": "white",
           "ticks": "",
           "title": {
            "standoff": 15
           },
           "zerolinecolor": "white",
           "zerolinewidth": 2
          }
         }
        },
        "title": {
         "text": "Top 10 Census Tracts with Highest Heat Wave Vulnerability in Los Angeles County"
        },
        "xaxis": {
         "anchor": "y",
         "autorange": true,
         "domain": [
          0,
          1
         ],
         "range": [
          -0.5,
          9.5
         ],
         "title": {
          "text": "Census Tract"
         },
         "type": "category"
        },
        "yaxis": {
         "anchor": "x",
         "autorange": true,
         "domain": [
          0,
          1
         ],
         "range": [
          0,
          21685.806915368423
         ],
         "title": {
          "text": "Heat Wave Risk Value"
         },
         "type": "linear"
        }
       }
      },
      "image/png": "[encoded data removed]",
      "text/html": [
       "<div>                            <div id=\"9290a6fa-be3a-4921-855c-2945562c8eff\" class=\"plotly-graph-div\" style=\"height:525px; width:100%;\"></div>            <script type=\"text/javascript\">                require([\"plotly\"], function(Plotly) {                    window.PLOTLYENV=window.PLOTLYENV || {};                                    if (document.getElementById(\"9290a6fa-be3a-4921-855c-2945562c8eff\")) {                    Plotly.newPlot(                        \"9290a6fa-be3a-4921-855c-2945562c8eff\",                        [{\"alignmentgroup\":\"True\",\"hovertemplate\":\"Census Tract=%{x}\\u003cbr\\u003eHeat Wave Risk Value=%{y}\\u003cextra\\u003e\\u003c\\u002fextra\\u003e\",\"legendgroup\":\"\",\"marker\":{\"color\":\"#636efa\",\"pattern\":{\"shape\":\"\"}},\"name\":\"\",\"offsetgroup\":\"\",\"orientation\":\"v\",\"showlegend\":false,\"textposition\":\"auto\",\"x\":[\"901209\",\"911100\",\"401707\",\"901300\",\"502303\",\"406103\",\"920035\",\"910002\",\"910601\",\"320300\"],\"xaxis\":\"x\",\"y\":[20601.5165696,17796.6760911,12248.3240393,11929.8751134,11820.0734885,11619.5829844,10588.8023796,10559.8809256,10539.0600299,10383.3071886],\"yaxis\":\"y\",\"type\":\"bar\"}],                        {\"template\":{\"data\":{\"histogram2dcontour\":[{\"type\":\"histogram2dcontour\",\"colorbar\":{\"outlinewidth\":0,\"ticks\":\"\"},\"colorscale\":[[0.0,\"#0d0887\"],[0.1111111111111111,\"#46039f\"],[0.2222222222222222,\"#7201a8\"],[0.3333333333333333,\"#9c179e\"],[0.4444444444444444,\"#bd3786\"],[0.5555555555555556,\"#d8576b\"],[0.6666666666666666,\"#ed7953\"],[0.7777777777777778,\"#fb9f3a\"],[0.8888888888888888,\"#fdca26\"],[1.0,\"#f0f921\"]]}],\"choropleth\":[{\"type\":\"choropleth\",\"colorbar\":{\"outlinewidth\":0,\"ticks\":\"\"}}],\"histogram2d\":[{\"type\":\"histogram2d\",\"colorbar\":{\"outlinewidth\":0,\"ticks\":\"\"},\"colorscale\":[[0.0,\"#0d0887\"],[0.1111111111111111,\"#46039f\"],[0.2222222222222222,\"#7201a8\"],[0.3333333333333333,\"#9c179e\"],[0.4444444444444444,\"#bd3786\"],[0.5555555555555556,\"#d8576b\"],[0.6666666666666666,\"#ed7953\"],[0.7777777777777778,\"#fb9f3a\"],[0.8888888888888888,\"#fdca26\"],[1.0,\"#f0f921\"]]}],\"heatmap\":[{\"type\":\"heatmap\",\"colorbar\":{\"outlinewidth\":0,\"ticks\":\"\"},\"colorscale\":[[0.0,\"#0d0887\"],[0.1111111111111111,\"#46039f\"],[0.2222222222222222,\"#7201a8\"],[0.3333333333333333,\"#9c179e\"],[0.4444444444444444,\"#bd3786\"],[0.5555555555555556,\"#d8576b\"],[0.6666666666666666,\"#ed7953\"],[0.7777777777777778,\"#fb9f3a\"],[0.8888888888888888,\"#fdca26\"],[1.0,\"#f0f921\"]]}],\"heatmapgl\":[{\"type\":\"heatmapgl\",\"colorbar\":{\"outlinewidth\":0,\"ticks\":\"\"},\"colorscale\":[[0.0,\"#0d0887\"],[0.1111111111111111,\"#46039f\"],[0.2222222222222222,\"#7201a8\"],[0.3333333333333333,\"#9c179e\"],[0.4444444444444444,\"#bd3786\"],[0.5555555555555556,\"#d8576b\"],[0.6666666666666666,\"#ed7953\"],[0.7777777777777778,\"#fb9f3a\"],[0.8888888888888888,\"#fdca26\"],[1.0,\"#f0f921\"]]}],\"contourcarpet\":[{\"type\":\"contourcarpet\",\"colorbar\":{\"outlinewidth\":0,\"ticks\":\"\"}}],\"contour\":[{\"type\":\"contour\",\"colorbar\":{\"outlinewidth\":0,\"ticks\":\"\"},\"colorscale\":[[0.0,\"#0d0887\"],[0.1111111111111111,\"#46039f\"],[0.2222222222222222,\"#7201a8\"],[0.3333333333333333,\"#9c179e\"],[0.4444444444444444,\"#bd3786\"],[0.5555555555555556,\"#d8576b\"],[0.6666666666666666,\"#ed7953\"],[0.7777777777777778,\"#fb9f3a\"],[0.8888888888888888,\"#fdca26\"],[1.0,\"#f0f921\"]]}],\"surface\":[{\"type\":\"surface\",\"colorbar\":{\"outlinewidth\":0,\"ticks\":\"\"},\"colorscale\":[[0.0,\"#0d0887\"],[0.1111111111111111,\"#46039f\"],[0.2222222222222222,\"#7201a8\"],[0.3333333333333333,\"#9c179e\"],[0.4444444444444444,\"#bd3786\"],[0.5555555555555556,\"#d8576b\"],[0.6666666666666666,\"#ed7953\"],[0.7777777777777778,\"#fb9f3a\"],[0.8888888888888888,\"#fdca26\"],[1.0,\"#f0f921\"]]}],\"mesh3d\":[{\"type\":\"mesh3d\",\"colorbar\":{\"outlinewidth\":0,\"ticks\":\"\"}}],\"scatter\":[{\"fillpattern\":{\"fillmode\":\"overlay\",\"size\":10,\"solidity\":0.2},\"type\":\"scatter\"}],\"parcoords\":[{\"type\":\"parcoords\",\"line\":{\"colorbar\":{\"outlinewidth\":0,\"ticks\":\"\"}}}],\"scatterpolargl\":[{\"type\":\"scatterpolargl\",\"marker\":{\"colorbar\":{\"outlinewidth\":0,\"ticks\":\"\"}}}],\"bar\":[{\"error_x\":{\"color\":\"#2a3f5f\"},\"error_y\":{\"color\":\"#2a3f5f\"},\"marker\":{\"line\":{\"color\":\"#E5ECF6\",\"width\":0.5},\"pattern\":{\"fillmode\":\"overlay\",\"size\":10,\"solidity\":0.2}},\"type\":\"bar\"}],\"scattergeo\":[{\"type\":\"scattergeo\",\"marker\":{\"colorbar\":{\"outlinewidth\":0,\"ticks\":\"\"}}}],\"scatterpolar\":[{\"type\":\"scatterpolar\",\"marker\":{\"colorbar\":{\"outlinewidth\":0,\"ticks\":\"\"}}}],\"histogram\":[{\"marker\":{\"pattern\":{\"fillmode\":\"overlay\",\"size\":10,\"solidity\":0.2}},\"type\":\"histogram\"}],\"scattergl\":[{\"type\":\"scattergl\",\"marker\":{\"colorbar\":{\"outlinewidth\":0,\"ticks\":\"\"}}}],\"scatter3d\":[{\"type\":\"scatter3d\",\"line\":{\"colorbar\":{\"outlinewidth\":0,\"ticks\":\"\"}},\"marker\":{\"colorbar\":{\"outlinewidth\":0,\"ticks\":\"\"}}}],\"scattermapbox\":[{\"type\":\"scattermapbox\",\"marker\":{\"colorbar\":{\"outlinewidth\":0,\"ticks\":\"\"}}}],\"scatterternary\":[{\"type\":\"scatterternary\",\"marker\":{\"colorbar\":{\"outlinewidth\":0,\"ticks\":\"\"}}}],\"scattercarpet\":[{\"type\":\"scattercarpet\",\"marker\":{\"colorbar\":{\"outlinewidth\":0,\"ticks\":\"\"}}}],\"carpet\":[{\"aaxis\":{\"endlinecolor\":\"#2a3f5f\",\"gridcolor\":\"white\",\"linecolor\":\"white\",\"minorgridcolor\":\"white\",\"startlinecolor\":\"#2a3f5f\"},\"baxis\":{\"endlinecolor\":\"#2a3f5f\",\"gridcolor\":\"white\",\"linecolor\":\"white\",\"minorgridcolor\":\"white\",\"startlinecolor\":\"#2a3f5f\"},\"type\":\"carpet\"}],\"table\":[{\"cells\":{\"fill\":{\"color\":\"#EBF0F8\"},\"line\":{\"color\":\"white\"}},\"header\":{\"fill\":{\"color\":\"#C8D4E3\"},\"line\":{\"color\":\"white\"}},\"type\":\"table\"}],\"barpolar\":[{\"marker\":{\"line\":{\"color\":\"#E5ECF6\",\"width\":0.5},\"pattern\":{\"fillmode\":\"overlay\",\"size\":10,\"solidity\":0.2}},\"type\":\"barpolar\"}],\"pie\":[{\"automargin\":true,\"type\":\"pie\"}]},\"layout\":{\"autotypenumbers\":\"strict\",\"colorway\":[\"#636efa\",\"#EF553B\",\"#00cc96\",\"#ab63fa\",\"#FFA15A\",\"#19d3f3\",\"#FF6692\",\"#B6E880\",\"#FF97FF\",\"#FECB52\"],\"font\":{\"color\":\"#2a3f5f\"},\"hovermode\":\"closest\",\"hoverlabel\":{\"align\":\"left\"},\"paper_bgcolor\":\"white\",\"plot_bgcolor\":\"#E5ECF6\",\"polar\":{\"bgcolor\":\"#E5ECF6\",\"angularaxis\":{\"gridcolor\":\"white\",\"linecolor\":\"white\",\"ticks\":\"\"},\"radialaxis\":{\"gridcolor\":\"white\",\"linecolor\":\"white\",\"ticks\":\"\"}},\"ternary\":{\"bgcolor\":\"#E5ECF6\",\"aaxis\":{\"gridcolor\":\"white\",\"linecolor\":\"white\",\"ticks\":\"\"},\"baxis\":{\"gridcolor\":\"white\",\"linecolor\":\"white\",\"ticks\":\"\"},\"caxis\":{\"gridcolor\":\"white\",\"linecolor\":\"white\",\"ticks\":\"\"}},\"coloraxis\":{\"colorbar\":{\"outlinewidth\":0,\"ticks\":\"\"}},\"colorscale\":{\"sequential\":[[0.0,\"#0d0887\"],[0.1111111111111111,\"#46039f\"],[0.2222222222222222,\"#7201a8\"],[0.3333333333333333,\"#9c179e\"],[0.4444444444444444,\"#bd3786\"],[0.5555555555555556,\"#d8576b\"],[0.6666666666666666,\"#ed7953\"],[0.7777777777777778,\"#fb9f3a\"],[0.8888888888888888,\"#fdca26\"],[1.0,\"#f0f921\"]],\"sequentialminus\":[[0.0,\"#0d0887\"],[0.1111111111111111,\"#46039f\"],[0.2222222222222222,\"#7201a8\"],[0.3333333333333333,\"#9c179e\"],[0.4444444444444444,\"#bd3786\"],[0.5555555555555556,\"#d8576b\"],[0.6666666666666666,\"#ed7953\"],[0.7777777777777778,\"#fb9f3a\"],[0.8888888888888888,\"#fdca26\"],[1.0,\"#f0f921\"]],\"diverging\":[[0,\"#8e0152\"],[0.1,\"#c51b7d\"],[0.2,\"#de77ae\"],[0.3,\"#f1b6da\"],[0.4,\"#fde0ef\"],[0.5,\"#f7f7f7\"],[0.6,\"#e6f5d0\"],[0.7,\"#b8e186\"],[0.8,\"#7fbc41\"],[0.9,\"#4d9221\"],[1,\"#276419\"]]},\"xaxis\":{\"gridcolor\":\"white\",\"linecolor\":\"white\",\"ticks\":\"\",\"title\":{\"standoff\":15},\"zerolinecolor\":\"white\",\"automargin\":true,\"zerolinewidth\":2},\"yaxis\":{\"gridcolor\":\"white\",\"linecolor\":\"white\",\"ticks\":\"\",\"title\":{\"standoff\":15},\"zerolinecolor\":\"white\",\"automargin\":true,\"zerolinewidth\":2},\"scene\":{\"xaxis\":{\"backgroundcolor\":\"#E5ECF6\",\"gridcolor\":\"white\",\"linecolor\":\"white\",\"showbackground\":true,\"ticks\":\"\",\"zerolinecolor\":\"white\",\"gridwidth\":2},\"yaxis\":{\"backgroundcolor\":\"#E5ECF6\",\"gridcolor\":\"white\",\"linecolor\":\"white\",\"showbackground\":true,\"ticks\":\"\",\"zerolinecolor\":\"white\",\"gridwidth\":2},\"zaxis\":{\"backgroundcolor\":\"#E5ECF6\",\"gridcolor\":\"white\",\"linecolor\":\"white\",\"showbackground\":true,\"ticks\":\"\",\"zerolinecolor\":\"white\",\"gridwidth\":2}},\"shapedefaults\":{\"line\":{\"color\":\"#2a3f5f\"}},\"annotationdefaults\":{\"arrowcolor\":\"#2a3f5f\",\"arrowhead\":0,\"arrowwidth\":1},\"geo\":{\"bgcolor\":\"white\",\"landcolor\":\"#E5ECF6\",\"subunitcolor\":\"white\",\"showland\":true,\"showlakes\":true,\"lakecolor\":\"white\"},\"title\":{\"x\":0.05},\"mapbox\":{\"style\":\"light\"}}},\"xaxis\":{\"anchor\":\"y\",\"domain\":[0.0,1.0],\"title\":{\"text\":\"Census Tract\"}},\"yaxis\":{\"anchor\":\"x\",\"domain\":[0.0,1.0],\"title\":{\"text\":\"Heat Wave Risk Value\"}},\"legend\":{\"tracegroupgap\":0},\"title\":{\"text\":\"Top 10 Census Tracts with Highest Heat Wave Vulnerability in Los Angeles County\"},\"barmode\":\"relative\"},                        {\"responsive\": true}                    ).then(function(){\n",
       "                            \n",
       "var gd = document.getElementById('9290a6fa-be3a-4921-855c-2945562c8eff');\n",
       "var x = new MutationObserver(function (mutations, observer) {{\n",
       "        var display = window.getComputedStyle(gd).display;\n",
       "        if (!display || display === 'none') {{\n",
       "            console.log([gd, 'removed!']);\n",
       "            Plotly.purge(gd);\n",
       "            observer.disconnect();\n",
       "        }}\n",
       "}});\n",
       "\n",
       "// Listen for the removal of the full notebook cells\n",
       "var notebookContainer = gd.closest('#notebook-container');\n",
       "if (notebookContainer) {{\n",
       "    x.observe(notebookContainer, {childList: true});\n",
       "}}\n",
       "\n",
       "// Listen for the clearing of the current output cell\n",
       "var outputEl = gd.closest('.output');\n",
       "if (outputEl) {{\n",
       "    x.observe(outputEl, {childList: true});\n",
       "}}\n",
       "\n",
       "                        })                };                });            </script>        </div>"
      ]
     },
     "metadata": {},
     "output_type": "display_data"
    }
   ],
   "source": [
    "#Create Bar Chart\n",
    "fig = px.bar(sorted_df.head(10),\n",
    "       x='TRACT',\n",
    "       y='HWAV_RISKV',\n",
    "       title='Top 10 Census Tracts with Highest Heat Wave Vulnerability in Los Angeles County' ,\n",
    "             labels={\n",
    "            'TRACT':'Census Tract',\n",
    "            'HWAV_RISKV':'Heat Wave Risk Value'})\n",
    "\n",
    "fig.show()"
   ]
  },
  {
   "cell_type": "code",
   "execution_count": 250,
   "id": "16652fdf-104e-4583-be27-d06cac316a40",
   "metadata": {},
   "outputs": [
    {
     "data": {
      "image/png": "[encoded data removed]",
      "text/plain": [
       "<Figure size 1200x800 with 2 Axes>"
      ]
     },
     "metadata": {},
     "output_type": "display_data"
    }
   ],
   "source": [
    "# Create the plot\n",
    "fig, ax = plt.subplots(figsize=(12, 8))\n",
    "\n",
    "# Plot all tracts with a light gray color\n",
    "la_county_gdf.plot(color='lightgray', edgecolor='gray', linewidth=0.5, ax=ax)\n",
    "\n",
    "# Plot top 10 tracts with a color map\n",
    "top_10_tracts.plot(column='HWAV_RISKV', cmap='YlOrRd', legend=True, \n",
    "                   legend_kwds={'label': 'Heat Wave Risk Value'}, \n",
    "                   ax=ax, aspect=1)\n",
    "\n",
    "# Customize the plot\n",
    "ax.set_title('Top 10 Census Tracts with Highest Heat Wave Vulnerability in Los Angeles County')\n",
    "ax.axis('off')\n",
    "\n",
    "# Add labels for top 10 tracts\n",
    "for idx, row in top_10_tracts.iterrows():\n",
    "    ax.annotate(text=row['TRACT'], xy=(row.geometry.centroid.x, row.geometry.centroid.y),\n",
    "                xytext=(3, 3), textcoords=\"offset points\", fontsize=8, color='black')\n",
    "\n",
    "plt.tight_layout()\n",
    "plt.show()"
   ]
  },
  {
   "cell_type": "code",
   "execution_count": 207,
   "id": "77a5c9a6-d45a-4fdf-99aa-c50c323b19cc",
   "metadata": {},
   "outputs": [
    {
     "name": "stdout",
     "output_type": "stream",
     "text": [
      "epsg:2229\n"
     ]
    }
   ],
   "source": [
    "# Received Use 'GeoSeries.to_crs()' to re-project geometries to a projected CRS before this operation, then need to roject the GeoDataFrame to a suitable projected CRS for Los Angeles.\n",
    "print(la_county_gdf.crs)"
   ]
  },
  {
   "cell_type": "code",
   "execution_count": 208,
   "id": "ff2de477-1f71-4a0a-b604-ae367d2768c1",
   "metadata": {},
   "outputs": [],
   "source": [
    "# Create interactive plotly map\n",
    "import json\n",
    "la_county_geojson = la_county_gdf[['geometry', 'HWAV_RISKR']].to_json()"
   ]
  },
  {
   "cell_type": "code",
   "execution_count": 209,
   "id": "225f8f44-4204-48e3-b14a-742604d724ce",
   "metadata": {},
   "outputs": [],
   "source": [
    "la_county_gdf['geometry'] = la_county_gdf['geometry'].simplify(tolerance=0.001)"
   ]
  },
  {
   "cell_type": "code",
   "execution_count": 210,
   "id": "fcb0e83f-395e-4ea6-82e4-19a0e93dc6bc",
   "metadata": {},
   "outputs": [],
   "source": [
    "columns_to_keep = ['geometry', 'HWAV_RISKR', 'COUNTY', 'STATE', 'TRACT', 'HWAV_RISKV', 'HWAV_RISKS']\n",
    "la_county_gdf = la_county_gdf[columns_to_keep]"
   ]
  },
  {
   "cell_type": "code",
   "execution_count": 212,
   "id": "d0c26f31-10d7-439f-9d06-c54a139a2100",
   "metadata": {},
   "outputs": [],
   "source": [
    "la_county_gdf['centroid_lat'] = la_county_gdf.geometry.centroid.y\n",
    "la_county_gdf['centroid_lon'] = la_county_gdf.geometry.centroid.x\n",
    "center={\"lat\": la_county_gdf['centroid_lat'].mean(), \"lon\": la_county_gdf['centroid_lon'].mean()}"
   ]
  },
  {
   "cell_type": "code",
   "execution_count": null,
   "id": "a31214ce-c709-4a2c-830e-d53c1b6c55fe",
   "metadata": {},
   "outputs": [],
   "source": [
    "import plotly.express as px\n",
    "\n",
    "fig = px.choropleth_mapbox(la_county_gdf, \n",
    "                           geojson=json.loads(la_county_geojson), \n",
    "                           locations=la_county_gdf.index, \n",
    "                           color=\"HWAV_RISKR\",\n",
    "                           color_continuous_scale=\"Viridis\",\n",
    "                           mapbox_style=\"carto-positron\",\n",
    "                           zoom=9,\n",
    "                           center=center,\n",
    "                           opacity=0.7,\n",
    "                           labels={'HWAV_RISKR':'Heat Wave Risk Rating'},\n",
    "                           hover_data=[\"TRACT\", \"HWAV_RISKV\", \"HWAV_RISKS\"])\n",
    "\n",
    "fig.update_layout(\n",
    "    width=800,\n",
    "    height=800,\n",
    "    title=\"Interactive Heat Wave Risk Map for Los Angeles County\",\n",
    "    title_x=0.5,\n",
    "    margin={\"r\":0,\"t\":40,\"l\":0,\"b\":0}\n",
    ")\n",
    "\n",
    "fig.show()"
   ]
  },
  {
   "cell_type": "code",
   "execution_count": null,
   "id": "4c8fba0a-58e4-42f4-857c-70e2084fb163",
   "metadata": {},
   "outputs": [],
   "source": []
  }
 ],
 "metadata": {
  "kernelspec": {
   "display_name": "Python 3 (ipykernel)",
   "language": "python",
   "name": "python3"
  },
  "language_info": {
   "codemirror_mode": {
    "name": "ipython",
    "version": 3
   },
   "file_extension": ".py",
   "mimetype": "text/x-python",
   "name": "python",
   "nbconvert_exporter": "python",
   "pygments_lexer": "ipython3",
   "version": "3.11.9"
  }
 },
 "nbformat": 4,
 "nbformat_minor": 5
}
